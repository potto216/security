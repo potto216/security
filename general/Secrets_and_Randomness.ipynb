{
 "cells": [
  {
   "cell_type": "code",
   "execution_count": null,
   "id": "40bb1300-5d5a-44f4-b5b3-ca31f19eeb64",
   "metadata": {},
   "outputs": [],
   "source": [
    "# Don't do this\n",
    "import random\n",
    "# Set the random number generator seed to 0.\n",
    "r = random.Random(0)\n",
    "key = r.getrandbits(16, \"big\")"
   ]
  },
  {
   "cell_type": "code",
   "execution_count": 2,
   "id": "416fa61e-0d11-45d2-8498-536588239d2b",
   "metadata": {
    "tags": []
   },
   "outputs": [
    {
     "name": "stdout",
     "output_type": "stream",
     "text": [
      "b'\\x1b'\n",
      "<random.SystemRandom object at 0x562e118bcc00>\n"
     ]
    }
   ],
   "source": [
    "# Recommended\n",
    "import os\n",
    "import secrets\n",
    "print(os.urandom(1))\n",
    "# or, if using Python 3.6 or later, \n",
    "print(secrets.SystemRandom())"
   ]
  }
 ],
 "metadata": {
  "kernelspec": {
   "display_name": "Python 3 (ipykernel)",
   "language": "python",
   "name": "python3"
  },
  "language_info": {
   "codemirror_mode": {
    "name": "ipython",
    "version": 3
   },
   "file_extension": ".py",
   "mimetype": "text/x-python",
   "name": "python",
   "nbconvert_exporter": "python",
   "pygments_lexer": "ipython3",
   "version": "3.10.4"
  }
 },
 "nbformat": 4,
 "nbformat_minor": 5
}
