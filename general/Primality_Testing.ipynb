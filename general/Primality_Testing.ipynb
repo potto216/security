{
 "cells": [
  {
   "cell_type": "code",
   "execution_count": 1,
   "id": "ab1d63eb-285a-4869-8a97-536c238a385c",
   "metadata": {
    "tags": []
   },
   "outputs": [],
   "source": [
    "import random\n",
    "\n",
    "def power_mod_p(x, y, p):\n",
    "    # Function to calculate (x^y) % p \n",
    "    res = 1\n",
    "    x = x % p  # make sure x is less than p\n",
    "    while y > 0:\n",
    "        # overall the approach is to do exponentiation by squaring\n",
    "        # if y is odd then multiply x with result \n",
    "        if y & 1:\n",
    "            res = (res * x) % p\n",
    "        y = y >> 1\n",
    "        x = (x * x) % p\n",
    "    return res"
   ]
  },
  {
   "cell_type": "code",
   "execution_count": 4,
   "id": "c6e3df47-7e27-4efd-a262-85836f1cee82",
   "metadata": {},
   "outputs": [],
   "source": [
    "\n",
    "\n",
    "# The function fermat_test takes two arguments: n, the number we want to test for primality, and k, the number\n",
    "# of iterations we want to run (default is 5). The more iterations, the more accurate the result but it will take more time.\n",
    "\n",
    "# The function power is a helper function used to calculate (x^y) % p efficiently.\n",
    "\n",
    "# If n is either 1 or 2, the function returns True (since 1 and 2 are prime numbers).\n",
    "\n",
    "# For each iteration, the function chooses a random number a between 2 and n-1, and \n",
    "# calculates the result of a^(n-1) mod n. If the result is not 1, the function immediately\n",
    "# returns False, because n failed the Fermat's test and is therefore not a prime number.\n",
    "\n",
    "# If n passes all k tests, the function returns True, indicating that n is probably a prime number.\n",
    "\n",
    "# Remember, the Fermat test doesn't provide a definitive answer, especially for Carmichael numbers,\n",
    "# which are composites that still pass this test. For more definitive tests, you could look into\n",
    "# stronger tests like the Miller-Rabin primality test.\n",
    "\n",
    "def is_prime_fermat_test(n, k=5): \n",
    "    # Test for n = 1 and n = 2\n",
    "    if n == 1 or n == 2:\n",
    "        return True\n",
    "\n",
    "    # Run the test k times\n",
    "    for _ in range(k):\n",
    "        a = random.randint(2, n - 1)\n",
    "        if power_mod_p(a, n-1, n) != 1:\n",
    "            return False\n",
    "\n",
    "    return True"
   ]
  },
  {
   "cell_type": "code",
   "execution_count": 12,
   "id": "1aef4665-e90d-42a0-a40a-1a51674924b2",
   "metadata": {
    "tags": []
   },
   "outputs": [
    {
     "data": {
      "text/plain": [
       "True"
      ]
     },
     "execution_count": 12,
     "metadata": {},
     "output_type": "execute_result"
    }
   ],
   "source": [
    "carmichael_number=561\n",
    "# 561 is a Carmichael number and passes , but it is a composite number. 561 = 3*11*17\n",
    "is_prime_fermat_test(carmichael_number, k=3)"
   ]
  },
  {
   "cell_type": "code",
   "execution_count": 8,
   "id": "28512853-29c4-46fa-8c2e-9a5e21091184",
   "metadata": {
    "tags": []
   },
   "outputs": [],
   "source": [
    "# The Miller-Rabin Primality Test is a more accurate probabilistic primality test compared to the Fermat Test. \n",
    "# This algorithm reduces the likelihood of false positives (i.e., composite numbers that pass the test) significantly.\n",
    "# https://youtu.be/csj7RGfLnt8?list=PLqfPEK2RTgCgJhjoDrmUYY7R0mzJzw9Mu\n",
    "\n",
    "def is_prime_miller_rabin_test(n, k):\n",
    "    if n <= 1 or n == 4:\n",
    "        return False\n",
    "    if n <= 3:\n",
    "        return True\n",
    "\n",
    "    # Find r such that n = 2^d * r + 1 for some r >= 1\n",
    "    # d should be an odd number\n",
    "    d = n - 1\n",
    "    while d % 2 == 0:\n",
    "        d //= 2\n",
    "\n",
    "    # Witness loop\n",
    "    for _ in range(k):\n",
    "        a = random.randint(2, n - 2) # 2 <= a <= n - 2\n",
    "        x = power_mod_p(a, d, n)\n",
    "\n",
    "        # checks if x is (1 mod n) or (-1 mod n) which is n - 1\n",
    "        if x == 1 or x == n - 1:\n",
    "            continue\n",
    "\n",
    "        while d != n - 1:\n",
    "            x = (x * x) % n\n",
    "            d *= 2   # 2^loop_counter   a^(2^r*d)\n",
    "\n",
    "            if x == n - 1: # if a^(2^r*d) mod n = -1 mod n -> n is prime\n",
    "                break\n",
    "        else:\n",
    "            return False # if a^(2^r*d) mod n = 1 mod n -> n is not prime\n",
    "\n",
    "    return True\n"
   ]
  },
  {
   "cell_type": "code",
   "execution_count": 13,
   "id": "4f77dfaa-65f2-47b7-bd01-5fad0251447b",
   "metadata": {
    "tags": []
   },
   "outputs": [
    {
     "data": {
      "text/plain": [
       "False"
      ]
     },
     "execution_count": 13,
     "metadata": {},
     "output_type": "execute_result"
    }
   ],
   "source": [
    " is_prime_miller_rabin_test(carmichael_number, k=3)"
   ]
  }
 ],
 "metadata": {
  "kernelspec": {
   "display_name": "Python 3 (ipykernel)",
   "language": "python",
   "name": "python3"
  },
  "language_info": {
   "codemirror_mode": {
    "name": "ipython",
    "version": 3
   },
   "file_extension": ".py",
   "mimetype": "text/x-python",
   "name": "python",
   "nbconvert_exporter": "python",
   "pygments_lexer": "ipython3",
   "version": "3.10.4"
  }
 },
 "nbformat": 4,
 "nbformat_minor": 5
}
