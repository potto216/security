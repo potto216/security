{
 "cells": [
  {
   "cell_type": "code",
   "execution_count": 2,
   "id": "6348e277-1cd3-4c38-862e-2462159df11f",
   "metadata": {
    "tags": []
   },
   "outputs": [],
   "source": [
    "def my_gcd(a,b):\n",
    "    if b==0:\n",
    "        print(f\"The gcd is {a}\")\n",
    "    else:\n",
    "        print(f\"gcd({a},{b})=>gcd({b},{a%b})\")\n",
    "        my_gcd(b, a%b)"
   ]
  },
  {
   "cell_type": "code",
   "execution_count": 3,
   "id": "18f27dff-35b9-44c1-8f11-8ea13f00baaa",
   "metadata": {
    "tags": []
   },
   "outputs": [
    {
     "name": "stdout",
     "output_type": "stream",
     "text": [
      "gcd(15,45)=>gcd(45,15)\n",
      "gcd(45,15)=>gcd(15,0)\n",
      "The gcd is 15\n"
     ]
    }
   ],
   "source": [
    "my_gcd(15,45) # gcd(15,45)=15"
   ]
  },
  {
   "cell_type": "code",
   "execution_count": 4,
   "id": "cb7030dd-2833-401e-afce-b204f42d9d34",
   "metadata": {
    "tags": []
   },
   "outputs": [
    {
     "name": "stdout",
     "output_type": "stream",
     "text": [
      "gcd(120,295)=>gcd(295,120)\n",
      "gcd(295,120)=>gcd(120,55)\n",
      "gcd(120,55)=>gcd(55,10)\n",
      "gcd(55,10)=>gcd(10,5)\n",
      "gcd(10,5)=>gcd(5,0)\n",
      "The gcd is 5\n"
     ]
    }
   ],
   "source": [
    "my_gcd(120,295) # gcd(120,295)=5"
   ]
  },
  {
   "cell_type": "markdown",
   "id": "532380e9-2536-4ff9-9b9f-10bde20470b9",
   "metadata": {},
   "source": [
    "The extended Euclidean algorithm is an extension to the Euclidean algorithm, and it computes not only the greatest common divisor of integers a and b, but also the coefficients of Bézout's identity, which are integers x and y such that ax + by = gcd(a, b).\n",
    "\n",
    "In this function, extended_gcd(a, b) returns three values: g is the greatest common divisor of a and b, and x and y are the coefficients of Bézout's identity.\n",
    "\n",
    "Note that this function uses integer division (//), which returns the largest integer less than or equal to the division of the inputs. This is in contrast to regular division (/), which would return a float.\n",
    "\n",
    "The if a == 0: condition handles the base case of the recursion: when a is 0, the gcd is b, and the coefficients are 0 and 1. In the recursive call, b % a gives the remainder of b divided by a, and this becomes the new a in the next call.\n",
    "\n",
    "The recursive call g, x, y = extended_gcd(b % a, a) computes the gcd and coefficients for b % a and a. The next line then calculates the updated coefficients for the current a and b.\n",
    "\n",
    "This version of the extended Euclidean algorithm uses recursion, but it can also be implemented with a while loop. This code is a basic implementation and may not be suitable for very large integers due to the limitations of recursion depth in Python.\n",
    "\n",
    "GCD(<a>12,<b>34) = 2       b/a  b = aq + r\n",
    "    34 = 2*12 + 10\n",
    "    12 = 10*1 + 2\n",
    "    10 = 2*5 + 0\n",
    "    \n",
    "GCD(12, 34) = 12*x + 34*y                  x =3, y = -1\n",
    "                                                \\---------------|\n",
    "    12 = 10*1 + 2  =>  2 = 12 - 1*10 = 12 - 1*(34 - 2*12) =  3*12 - 1*34 \n",
    "    34 = 2*12 + 10 => 10 = 34 - 2*12 -----------/\n",
    " \n",
    "Here's a Python function that implements the extended Euclidean algorithm:"
   ]
  },
  {
   "cell_type": "code",
   "execution_count": null,
   "id": "d5fb0c69-cfc2-4e2c-9ba3-a5f6c73fce4b",
   "metadata": {},
   "outputs": [],
   "source": [
    "def power_mod_p(x, y, p):\n",
    "    # Function to calculate (x^y) % p \n",
    "    res = 1\n",
    "    x = x % p  # make sure x is less than p\n",
    "    while y > 0:\n",
    "        # overall the approach is to do exponentiation by squaring\n",
    "        # if y is odd then multiply x with result \n",
    "        if y & 1:\n",
    "            res = (res * x) % p\n",
    "        y = y >> 1\n",
    "        x = (x * x) % p\n",
    "    return res"
   ]
  },
  {
   "cell_type": "code",
   "execution_count": 1,
   "id": "d0c1fd06-27cb-4d59-9beb-a44d7eb1904c",
   "metadata": {
    "tags": []
   },
   "outputs": [
    {
     "name": "stdout",
     "output_type": "stream",
     "text": [
      "gcd(240, 46) = 2\n",
      "Coefficients in the Bezout's identity: x=-9, y=47\n",
      "gcd(93, 219) = 3\n",
      "Coefficients in the Bezout's identity: x=33, y=-14\n"
     ]
    }
   ],
   "source": [
    "def extended_gcd(a, b):\n",
    "    if a == 0:\n",
    "        return b, 0, 1\n",
    "    else:\n",
    "        g, x, y = extended_gcd(b % a, a)\n",
    "        return g, y - (b // a) * x, x\n",
    "\n",
    "a = 240\n",
    "b = 46\n",
    "g, x, y = extended_gcd(a, b)\n",
    "print(f\"gcd({a}, {b}) = {g}\")\n",
    "print(f\"Coefficients in the Bezout's identity: x={x}, y={y}\")\n",
    "\n",
    "a = 93\n",
    "b = 219\n",
    "g, x, y = extended_gcd(a, b)\n",
    "print(f\"gcd({a}, {b}) = {g}\")\n",
    "print(f\"Coefficients in the Bezout's identity: x={x}, y={y}\")\n"
   ]
  },
  {
   "cell_type": "code",
   "execution_count": 2,
   "id": "c0a09089-ef25-4092-bb84-c856fb0c75fc",
   "metadata": {
    "tags": []
   },
   "outputs": [
    {
     "name": "stdout",
     "output_type": "stream",
     "text": [
      "4\n",
      "3\n",
      "2\n"
     ]
    }
   ],
   "source": [
    "def modular_inverse(a, m):\n",
    "    gcd, x, y = extended_gcd(a, m)\n",
    "    if gcd != 1:\n",
    "        # modular inverse does not exist\n",
    "        return None\n",
    "    else:\n",
    "        # x might be negative so convert it into positive\n",
    "        return (x % m + m) % m\n",
    "\n",
    "\n",
    "# testing the function\n",
    "a = 3\n",
    "m = 11\n",
    "print(modular_inverse(a, m))  # outputs: 4\n",
    "\n",
    "a = 35\n",
    "m = 8\n",
    "# 35(x) = 1 mod 8\n",
    "# x = 3\n",
    "print(modular_inverse(a, m))  # outputs: 3\n",
    "\n",
    "a = 20\n",
    "m = 3\n",
    "# 20(x) = 1 mod 3\n",
    "# x = 2\n",
    "print(modular_inverse(a, m))  # outputs: 2\n"
   ]
  },
  {
   "cell_type": "markdown",
   "id": "de011398-60eb-4edd-948c-5292730e1fbf",
   "metadata": {},
   "source": [
    "The Chinese Remainder Theorem (CRT) states that if one knows the remainders of the Euclidean division of an integer n by several integers, then one can determine the remainder of the division of n by the product of these integers, under certain conditions.\n",
    "\n",
    "A key condition for the CRT is that all the moduli must be pairwise coprime (their greatest common divisor should be 1).\n",
    "\n",
    "We can use the extended Euclidean algorithm to find the modular inverses required for the solution. Here is the Python implementation of the Chinese Remainder Theorem:\n",
    "In this code, we first calculate the product of all the numbers in num (i.e., the moduli). Then we initialize the result as 0 and update it by adding the product of the remainder at a particular index, the modular inverse of prod // num[i] with respect to num[i], and prod // num[i]. Finally, we return the result modulo prod to get the smallest possible solution.\n",
    "\n",
    "The chinese_remainder_theorem function takes three arguments: num (the list of moduli), rem (the list of remainders), and k (the number of equations). The modular_inverse and extended_gcd functions are as I explained in the previous response.\n",
    "\n",
    "x = a1N1c1 + a2N2c2 + ... + akNkck mod N "
   ]
  },
  {
   "cell_type": "code",
   "execution_count": 8,
   "id": "5031c6c7-d3e5-4e32-9a01-f2d885a0567e",
   "metadata": {},
   "outputs": [
    {
     "name": "stdout",
     "output_type": "stream",
     "text": [
      "11\n"
     ]
    },
    {
     "ename": "ValueError",
     "evalue": "Moduli must be pairwise coprime",
     "output_type": "error",
     "traceback": [
      "\u001b[0;31m---------------------------------------------------------------------------\u001b[0m",
      "\u001b[0;31mValueError\u001b[0m                                Traceback (most recent call last)",
      "Cell \u001b[0;32mIn[8], line 32\u001b[0m\n\u001b[1;32m     30\u001b[0m num \u001b[38;5;241m=\u001b[39m [\u001b[38;5;241m3\u001b[39m, \u001b[38;5;241m1\u001b[39m, \u001b[38;5;241m6\u001b[39m]  \u001b[38;5;66;03m# Moduli \u001b[39;00m\n\u001b[1;32m     31\u001b[0m rem \u001b[38;5;241m=\u001b[39m [\u001b[38;5;241m5\u001b[39m, \u001b[38;5;241m7\u001b[39m, \u001b[38;5;241m8\u001b[39m]  \u001b[38;5;66;03m# Remainders\u001b[39;00m\n\u001b[0;32m---> 32\u001b[0m \u001b[38;5;28mprint\u001b[39m(\u001b[43mchinese_remainder_theorem\u001b[49m\u001b[43m(\u001b[49m\u001b[43mnum\u001b[49m\u001b[43m,\u001b[49m\u001b[43m \u001b[49m\u001b[43mrem\u001b[49m\u001b[43m,\u001b[49m\u001b[43m \u001b[49m\u001b[38;5;28;43mlen\u001b[39;49m\u001b[43m(\u001b[49m\u001b[43mnum\u001b[49m\u001b[43m)\u001b[49m\u001b[43m)\u001b[49m)  \u001b[38;5;66;03m# Outputs: 11\u001b[39;00m\n",
      "Cell \u001b[0;32mIn[8], line 13\u001b[0m, in \u001b[0;36mchinese_remainder_theorem\u001b[0;34m(num, rem, k)\u001b[0m\n\u001b[1;32m     11\u001b[0m \u001b[38;5;28;01mdef\u001b[39;00m \u001b[38;5;21mchinese_remainder_theorem\u001b[39m(num, rem, k):\n\u001b[1;32m     12\u001b[0m     \u001b[38;5;28;01mif\u001b[39;00m \u001b[38;5;129;01mnot\u001b[39;00m are_pairwise_coprime(num):\n\u001b[0;32m---> 13\u001b[0m         \u001b[38;5;28;01mraise\u001b[39;00m \u001b[38;5;167;01mValueError\u001b[39;00m(\u001b[38;5;124m\"\u001b[39m\u001b[38;5;124mModuli must be pairwise coprime\u001b[39m\u001b[38;5;124m\"\u001b[39m)\n\u001b[1;32m     15\u001b[0m     prod \u001b[38;5;241m=\u001b[39m \u001b[38;5;241m1\u001b[39m\n\u001b[1;32m     16\u001b[0m     \u001b[38;5;28;01mfor\u001b[39;00m i \u001b[38;5;129;01min\u001b[39;00m \u001b[38;5;28mrange\u001b[39m(\u001b[38;5;241m0\u001b[39m, k):\n",
      "\u001b[0;31mValueError\u001b[0m: Moduli must be pairwise coprime"
     ]
    }
   ],
   "source": [
    "# Chinese Remainder Theorem https://www.youtube.com/watch?v=0G22GkBMCI8&list=PLqfPEK2RTgCgJhjoDrmUYY7R0mzJzw9Mu&index=8\n",
    "\n",
    "\n",
    "def are_pairwise_coprime(numbers):\n",
    "    for i in range(len(numbers)):\n",
    "        for j in range(i+1, len(numbers)):\n",
    "            if extended_gcd(numbers[i], numbers[j])[0] != 1:\n",
    "                return False\n",
    "    return True\n",
    "\n",
    "def chinese_remainder_theorem(num, rem, k):\n",
    "    if not are_pairwise_coprime(num):\n",
    "        raise ValueError(\"Moduli must be pairwise coprime\")\n",
    "        \n",
    "    prod = 1\n",
    "    for i in range(0, k):\n",
    "        prod *= num[i]\n",
    "    \n",
    "    result = 0\n",
    "    for i in range(0,k):\n",
    "        pp = prod // num[i]\n",
    "        result += rem[i] * modular_inverse(pp, num[i]) * pp\n",
    "    return result % prod\n",
    "\n",
    "# Test\n",
    "# x = 2 mod 3\n",
    "# x = 3 mod 4\n",
    "# x = 1 mod 5\n",
    "num = [3, 4, 5]  # Moduli \n",
    "rem = [2, 3, 1]  # Remainders\n",
    "print(chinese_remainder_theorem(num, rem, len(num)))  # Outputs: 11\n",
    "\n",
    "\n",
    "num = [3, 1, 6]  # Moduli \n",
    "rem = [5, 7, 8]  # Remainders\n",
    "print(chinese_remainder_theorem(num, rem, len(num)))  # Outputs: Moduli must be pairwise coprime\n"
   ]
  }
 ],
 "metadata": {
  "kernelspec": {
   "display_name": "Python 3 (ipykernel)",
   "language": "python",
   "name": "python3"
  },
  "language_info": {
   "codemirror_mode": {
    "name": "ipython",
    "version": 3
   },
   "file_extension": ".py",
   "mimetype": "text/x-python",
   "name": "python",
   "nbconvert_exporter": "python",
   "pygments_lexer": "ipython3",
   "version": "3.10.4"
  }
 },
 "nbformat": 4,
 "nbformat_minor": 5
}
