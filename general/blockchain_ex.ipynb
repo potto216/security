{
 "cells": [
  {
   "cell_type": "code",
   "execution_count": 1,
   "id": "1550fb00-f8aa-4108-8e77-83511850397c",
   "metadata": {},
   "outputs": [
    {
     "name": "stdout",
     "output_type": "stream",
     "text": [
      "Nonce: 55107\n",
      "Hash: 00007a7ade36c730772a23e95b49fae5e1af24a9950e6fcf8abdb564e7f36582\n"
     ]
    }
   ],
   "source": [
    "import hashlib\n",
    "\n",
    "def compute_hash(data, nonce):\n",
    "    # Combine the data and nonce\n",
    "    combined_data = f\"{data}{nonce}\".encode()\n",
    "\n",
    "    # Compute and return the SHA-256 hash\n",
    "    return hashlib.sha256(combined_data).hexdigest()\n",
    "\n",
    "def find_nonce(data, target):\n",
    "    nonce = 0\n",
    "    while True:\n",
    "        hash_value = compute_hash(data, nonce)\n",
    "        \n",
    "        # Check if the hash is less than the target\n",
    "        if hash_value < target:\n",
    "            return nonce, hash_value\n",
    "        \n",
    "        nonce += 1\n",
    "\n",
    "# Define the data and target\n",
    "data = \"I am a block in a blockchain\"\n",
    "target = \"0000ffffffffffffffffffffffffffffffffffffffffffffffffffffffffffff\"\n",
    "\n",
    "# Find a nonce that results in a hash less than the target\n",
    "nonce, hash_value = find_nonce(data, target)\n",
    "\n",
    "# Print the nonce and hash\n",
    "print(f\"Nonce: {nonce}\")\n",
    "print(f\"Hash: {hash_value}\")\n"
   ]
  }
 ],
 "metadata": {
  "kernelspec": {
   "display_name": "Python 3 (ipykernel)",
   "language": "python",
   "name": "python3"
  },
  "language_info": {
   "codemirror_mode": {
    "name": "ipython",
    "version": 3
   },
   "file_extension": ".py",
   "mimetype": "text/x-python",
   "name": "python",
   "nbconvert_exporter": "python",
   "pygments_lexer": "ipython3",
   "version": "3.10.4"
  }
 },
 "nbformat": 4,
 "nbformat_minor": 5
}
