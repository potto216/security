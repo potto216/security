{
 "cells": [
  {
   "cell_type": "code",
   "execution_count": 1,
   "id": "bd9751b4",
   "metadata": {},
   "outputs": [
    {
     "name": "stdout",
     "output_type": "stream",
     "text": [
      "[{'tag': 0, 'type': 21, 'value': []}]\n"
     ]
    }
   ],
   "source": [
    "import struct\n",
    "\n",
    "# Helper function to read the control octet and determine the type and tag\n",
    "def read_control_octet(data):\n",
    "    if not data:\n",
    "        return None, None, data\n",
    "    control_octet = data[0]\n",
    "    tag_control = (control_octet >> 5) & 0x07  # Upper 3 bits\n",
    "    element_type = control_octet & 0x1F        # Lower 5 bits\n",
    "    return tag_control, element_type, data[1:]\n",
    "\n",
    "# Function to read the tag based on tag control\n",
    "def read_tag(data, tag_control):\n",
    "    tag_sizes = {0: 0, 1: 1, 2: 2, 3: 4, 4: 2, 5: 4, 6: 6, 7: 8}\n",
    "    tag_size = tag_sizes.get(tag_control, 0)\n",
    "    tag = data[:tag_size]\n",
    "    return int.from_bytes(tag, 'little'), data[tag_size:]\n",
    "\n",
    "# Function to read the length and value based on element type\n",
    "def read_length_and_value(data, element_type):\n",
    "    # Mapping element types to their value sizes\n",
    "    type_size = {\n",
    "        0: 1, 1: 2, 2: 4, 3: 8, 4: 1, 5: 2, 6: 4, 7: 8,\n",
    "        10: 4, 11: 8, 12: 1, 13: 2, 14: 4, 15: 8,\n",
    "        16: 1, 17: 2, 18: 4, 19: 8\n",
    "    }\n",
    "    length = type_size.get(element_type, None)\n",
    "    \n",
    "    if length is None:\n",
    "        # Container or special types\n",
    "        if element_type in {21, 22, 23}:  # Structures, Arrays, Lists\n",
    "            return None, data\n",
    "        elif element_type == 24:  # End-of-container\n",
    "            return None, data\n",
    "        else:\n",
    "            raise ValueError(\"Unsupported element type\")\n",
    "    else:\n",
    "        value = data[:length]\n",
    "        return value, data[length:]\n",
    "\n",
    "# Function to read and parse TLV data recursively\n",
    "def parse_tlv(data):\n",
    "    elements = []\n",
    "    while data:\n",
    "        tag_control, element_type, data = read_control_octet(data)\n",
    "        if element_type == 24:  # End-of-container\n",
    "            break\n",
    "        tag, data = read_tag(data, tag_control)\n",
    "        value, data = read_length_and_value(data, element_type)\n",
    "        if element_type in {21, 22, 23}:  # Recursive parsing for containers\n",
    "            value, data = parse_tlv(data)\n",
    "        elements.append({'tag': tag, 'type': element_type, 'value': value})\n",
    "    return elements, data\n",
    "\n",
    "# Example usage\n",
    "data = b'\\x15\\x18'  # Example data for an empty structure\n",
    "parsed_data, remaining = parse_tlv(data)\n",
    "print(parsed_data)\n",
    "\n",
    "# The parse_tlv function now handles nested structures by recursively calling itself when a container type is encountered.\n"
   ]
  }
 ],
 "metadata": {
  "kernelspec": {
   "display_name": "Python 3 (ipykernel)",
   "language": "python",
   "name": "python3"
  },
  "language_info": {
   "codemirror_mode": {
    "name": "ipython",
    "version": 3
   },
   "file_extension": ".py",
   "mimetype": "text/x-python",
   "name": "python",
   "nbconvert_exporter": "python",
   "pygments_lexer": "ipython3",
   "version": "3.10.14"
  }
 },
 "nbformat": 4,
 "nbformat_minor": 5
}
