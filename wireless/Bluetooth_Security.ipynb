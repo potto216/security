{
 "cells": [
  {
   "cell_type": "code",
   "execution_count": 1,
   "id": "8dba6174-6fd2-4369-ac5b-60ecc69563c5",
   "metadata": {},
   "outputs": [],
   "source": [
    "# Initialization vector (IV) is typically a public random string that is used as a third input—in addition to the key and plaintext—into the encryption algorithm\n",
    "# The IV is supposed to be different each time you encrypt, preventing the same data from being encrypted to the same ciphertext\n",
    "# PKCS7 padding appends n bytes, with each padding byte holding the value n: if 3 bytes of padding are needed, it appends \\x03\\x03\\x03. Similarly, if 2 bytes of padding are needed, it appends \\x02\\x02.\n",
    "# ANSI X.923 padding all appended bytes are 0, except for the last byte, which is the length of the total padding. In this example, 3 bytes of padding is \\x00\\x00\\x03, and two bytes of padding is \\x00\\x02.\n",
    "#\n",
    "# If you reuse a key and IV pair, you will get predictable output for predictable headers. Parts of your messages that you might be inclined not to think about at all,\n",
    "# because they are boilerplate or contain hidden structure, will become a liability; adversaries can use predictable ciphertext to learn about your keys.\n",
    "#"
   ]
  },
  {
   "cell_type": "code",
   "execution_count": 13,
   "id": "61c1bc7d-db68-4ea0-aea1-413e69e9301d",
   "metadata": {},
   "outputs": [],
   "source": [
    "# https://cryptography.io/en/latest/ pip install cryptography\n",
    "# pip install cryptography\n",
    "\n",
    "from cryptography.hazmat.primitives.asymmetric import ec\n",
    "from cryptography.hazmat.primitives.kdf.hkdf import HKDF\n",
    "from cryptography.hazmat.primitives import hashes\n",
    "from cryptography.hazmat.backends import default_backend\n",
    "\n",
    "def generate_ecdh_keys():\n",
    "    private_key = ec.generate_private_key(ec.SECP256R1(), default_backend())\n",
    "    public_key = private_key.public_key()\n",
    "    return private_key, public_key\n",
    "\n",
    "def derive_shared_secret(private_key, peer_public_key):\n",
    "    return private_key.exchange(ec.ECDH(), peer_public_key)\n",
    "\n",
    "def derive_key(shared_secret):\n",
    "    # Derive a 128-bit key (16 bytes)\n",
    "    hkdf = HKDF(\n",
    "        algorithm=hashes.SHA256(),\n",
    "        length=16,\n",
    "        salt=None,\n",
    "        info=b'handshake data',\n",
    "        backend=default_backend()\n",
    "    )\n",
    "    return hkdf.derive(shared_secret)\n",
    "# Encryption and Decryption:\n",
    "from cryptography.hazmat.primitives.ciphers.aead import AESCCM\n",
    "\n",
    "def encrypt_aes_ccm(key, plaintext, nonce):\n",
    "    aesccm = AESCCM(key)\n",
    "    return aesccm.encrypt(nonce, plaintext, None)\n",
    "\n",
    "def decrypt_aes_ccm(key, ciphertext, nonce):\n",
    "    aesccm = AESCCM(key)\n",
    "    return aesccm.decrypt(nonce, ciphertext, None)\n",
    "\n",
    "# Nonce Construction\n",
    "import struct\n",
    "\n",
    "def construct_nonce(packet_counter, direction_bit, iv):\n",
    "    # Ensure packet_counter is 39 bits\n",
    "    if packet_counter >= 2**39:\n",
    "        raise ValueError(\"Packet counter must be a 39-bit integer\")\n",
    "    \n",
    "    packet_counter_bytes = packet_counter.to_bytes(5, byteorder='big')\n",
    "    # Ensure only the last 39 bits are used (5 bytes minus 1 bit)\n",
    "    packet_counter_bytes = (int.from_bytes(packet_counter_bytes, byteorder='big') & ((1 << 39) - 1)).to_bytes(5, byteorder='big')\n",
    "    \n",
    "    direction_bit_bytes = direction_bit.to_bytes(1, byteorder='big')\n",
    "    # Concatenate the components to form the nonce\n",
    "    nonce = packet_counter_bytes[:-1] + direction_bit_bytes[:1] + iv\n",
    "    return nonce\n",
    "\n"
   ]
  },
  {
   "cell_type": "markdown",
   "id": "949ae607-7ba7-456f-84c0-d91c4a6feecf",
   "metadata": {},
   "source": [
    "Ref:\n",
    "[NCC Group](https://research.nccgroup.com/2021/02/17/cryptopals-exploiting-cbc-padding-oracles/)\n",
    "[Poddle Attack](https://medium.com/@c0D3M/poodle-attack-explained-ed6a1cd0667d)"
   ]
  },
  {
   "cell_type": "code",
   "execution_count": null,
   "id": "bd9751b4",
   "metadata": {},
   "outputs": [],
   "source": []
  }
 ],
 "metadata": {
  "kernelspec": {
   "display_name": "Python 3 (ipykernel)",
   "language": "python",
   "name": "python3"
  },
  "language_info": {
   "codemirror_mode": {
    "name": "ipython",
    "version": 3
   },
   "file_extension": ".py",
   "mimetype": "text/x-python",
   "name": "python",
   "nbconvert_exporter": "python",
   "pygments_lexer": "ipython3",
   "version": "3.10.4"
  }
 },
 "nbformat": 4,
 "nbformat_minor": 5
}
