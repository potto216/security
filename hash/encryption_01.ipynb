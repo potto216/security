{
 "cells": [
  {
   "cell_type": "markdown",
   "id": "abe3b489-3b57-49a6-9582-7d1bebc9bca1",
   "metadata": {},
   "source": [
    "cryptodoneright.org "
   ]
  },
  {
   "cell_type": "code",
   "execution_count": 3,
   "id": "b5b475bb-8e8f-4d5c-959b-06fede809ab9",
   "metadata": {
    "tags": []
   },
   "outputs": [
    {
     "data": {
      "text/plain": [
       "4"
      ]
     },
     "execution_count": 3,
     "metadata": {},
     "output_type": "execute_result"
    }
   ],
   "source": [
    "import string\n",
    "\n",
    "t={}\n",
    "t[3]=4\n",
    "s=\"abcdefg\"\n",
    "t.get(3,3)\n",
    "    "
   ]
  },
  {
   "cell_type": "code",
   "execution_count": 4,
   "id": "302c1ab8-f3c4-4351-ab76-a9948ce7dbf7",
   "metadata": {
    "tags": []
   },
   "outputs": [
    {
     "data": {
      "text/plain": [
       "'d41d8cd98f00b204e9800998ecf8427e'"
      ]
     },
     "execution_count": 4,
     "metadata": {},
     "output_type": "execute_result"
    }
   ],
   "source": [
    "# Message integrity means that no unauthorized parties can change the message without the change being noticed.\n",
    "# MD5 Is No Good but used here as a demo\n",
    "# All hash functions, including non-cryptographic hash functions, have the fundamental qualities of consistency, compression, and lossiness and have all kinds of important applications in computer science. \n",
    "import hashlib\n",
    "md5hasher = hashlib.md5()\n",
    "md5hasher.hexdigest()"
   ]
  },
  {
   "cell_type": "code",
   "execution_count": 15,
   "id": "a90988eb-a76e-49ef-92dd-9dc504e5f779",
   "metadata": {
    "tags": []
   },
   "outputs": [
    {
     "name": "stdout",
     "output_type": "stream",
     "text": [
      "The MD5 digest of b'alice' is 6384e2b2184bcbf58eccf10ca7a6563c\n",
      "The MD5 digest of b'bob' is 9f9d51bc70ef21ca5c14f307980a29d8\n",
      "data_el is 97 and type is <class 'int'> compared to <class 'bytes'>\n",
      "data_el is 108 and type is <class 'int'> compared to <class 'bytes'>\n",
      "data_el is 105 and type is <class 'int'> compared to <class 'bytes'>\n",
      "data_el is 99 and type is <class 'int'> compared to <class 'bytes'>\n",
      "data_el is 101 and type is <class 'int'> compared to <class 'bytes'>\n",
      "The MD5 digest of b'alice' using update is 6384e2b2184bcbf58eccf10ca7a6563c\n"
     ]
    }
   ],
   "source": [
    "data_to_hash = b'alice'\n",
    "md5hasher = hashlib.md5(data_to_hash)\n",
    "print(f'The MD5 digest of {data_to_hash} is {md5hasher.hexdigest()}')\n",
    "\n",
    "data_to_hash = b'bob'\n",
    "md5hasher = hashlib.md5(data_to_hash)\n",
    "print(f'The MD5 digest of {data_to_hash} is {md5hasher.hexdigest()}')\n",
    "\n",
    "md5hasher = hashlib.md5()\n",
    "data_to_hash = b'alice'\n",
    "for data_el in data_to_hash: \n",
    "    print(f\"data_el is {data_el} and type is {type(data_el)} compared to {type(b'h')}\")\n",
    "    md5hasher.update(bytes([data_el]))\n",
    "print(f'The MD5 digest of {data_to_hash} using update is {md5hasher.hexdigest()}')"
   ]
  },
  {
   "cell_type": "code",
   "execution_count": 20,
   "id": "a4a36056-ed43-4a31-92b1-db2c224382f0",
   "metadata": {
    "tags": []
   },
   "outputs": [
    {
     "name": "stdout",
     "output_type": "stream",
     "text": [
      "9f9d51bc70ef21ca5c14f307980a29d8\n",
      "386685f06beecb9f35db2e22da429ec9\n",
      "****************\n",
      "0111111001110101010001101111000111000011101111001000011100101001\n",
      "1110000110011010000101111100000110101111101110110010111001111100\n",
      "****************\n",
      "01110000010100111100110000011110011000000010100010100111011000\n",
      "11010111011011001011100010001011011010010000101001111011001001\n"
     ]
    }
   ],
   "source": [
    "# Looking at how much a hash changes with changing input\n",
    "hexstring1 = hashlib.md5(b'bob').hexdigest()\n",
    "hexstring2= hashlib.md5(b'cob').hexdigest()\n",
    "\n",
    "# Convert hex strings to binary strings and remove '0b' prefix\n",
    "binstring1 = bin(int(hexstring1, 16))[2:]\n",
    "binstring2 = bin(int(hexstring2, 16))[2:]\n",
    "\n",
    "# Calculate the length difference between the two binary strings\n",
    "length_difference = len(binstring1) - len(binstring2)\n",
    "\n",
    "# Pad the shorter binary string with leading zeros\n",
    "if length_difference > 0:\n",
    "    binstring2 = '0' * length_difference + binstring2\n",
    "elif length_difference < 0:\n",
    "    binstring1 = '0' * abs(length_difference) + binstring1\n",
    "print(f\"{hexstring1}\\n{hexstring2}\")\n",
    "print('****************')\n",
    "print(\"{}\\n{}\".format(binstring1[2:66], binstring2[2:66]))\n",
    "print('****************')\n",
    "print(\"{}\\n{}\".format(binstring1[66:], binstring2[66:]))"
   ]
  },
  {
   "cell_type": "code",
   "execution_count": 22,
   "id": "3ffc20c7-a4e1-4e1e-8706-ef30432c132f",
   "metadata": {
    "tags": []
   },
   "outputs": [
    {
     "name": "stdout",
     "output_type": "stream",
     "text": [
      "6384e2b2184bcbf58eccf10ca7a6563c\n",
      "522b276a356bdf39013dfabea2cd43e141ecc9e8\n",
      "2bd806c97f0e00af1a1fc3328fa763a9269723c8db8fac4f93af71db186d6e90\n"
     ]
    }
   ],
   "source": [
    "print(hashlib.md5(b'alice').hexdigest())\n",
    "print(hashlib.sha1(b'alice').hexdigest())\n",
    "print(hashlib.sha256(b'alice').hexdigest())"
   ]
  },
  {
   "cell_type": "code",
   "execution_count": 29,
   "id": "0446f58d-7744-44ff-9385-f08567921b57",
   "metadata": {
    "tags": []
   },
   "outputs": [
    {
     "name": "stdout",
     "output_type": "stream",
     "text": [
      "The key is b'?\\x9a\\xee+\\x83\"~\\xb5\\\\_\\x16\\xad\\xf8v\\rIoO5\\xa6\\xec\\xb2\\x87\\rM\\xdanz\\xdc\\x93\\xca\\xca'\n",
      "Success! (Exception if mismatch)\n"
     ]
    },
    {
     "ename": "InvalidKey",
     "evalue": "Keys do not match.",
     "output_type": "error",
     "traceback": [
      "\u001b[0;31m---------------------------------------------------------------------------\u001b[0m",
      "\u001b[0;31mInvalidKey\u001b[0m                                Traceback (most recent call last)",
      "Cell \u001b[0;32mIn[29], line 25\u001b[0m\n\u001b[1;32m     20\u001b[0m \u001b[38;5;28mprint\u001b[39m(\u001b[38;5;124m\"\u001b[39m\u001b[38;5;124mSuccess! (Exception if mismatch)\u001b[39m\u001b[38;5;124m\"\u001b[39m)\n\u001b[1;32m     22\u001b[0m kdf3 \u001b[38;5;241m=\u001b[39m Scrypt(salt\u001b[38;5;241m=\u001b[39msalt, length\u001b[38;5;241m=\u001b[39m\u001b[38;5;241m32\u001b[39m,\n\u001b[1;32m     23\u001b[0m              n\u001b[38;5;241m=\u001b[39m\u001b[38;5;241m2\u001b[39m\u001b[38;5;241m*\u001b[39m\u001b[38;5;241m*\u001b[39m\u001b[38;5;241m14\u001b[39m, r\u001b[38;5;241m=\u001b[39m\u001b[38;5;241m8\u001b[39m, p\u001b[38;5;241m=\u001b[39m\u001b[38;5;241m1\u001b[39m,\n\u001b[1;32m     24\u001b[0m              backend\u001b[38;5;241m=\u001b[39mdefault_backend())\n\u001b[0;32m---> 25\u001b[0m \u001b[43mkdf3\u001b[49m\u001b[38;5;241;43m.\u001b[39;49m\u001b[43mverify\u001b[49m\u001b[43m(\u001b[49m\u001b[38;5;124;43mb\u001b[39;49m\u001b[38;5;124;43m\"\u001b[39;49m\u001b[38;5;124;43mmy great password\u001b[39;49m\u001b[38;5;124;43m\"\u001b[39;49m\u001b[43m,\u001b[49m\u001b[43m \u001b[49m\u001b[43mkey_wrong\u001b[49m\u001b[43m)\u001b[49m\n\u001b[1;32m     26\u001b[0m \u001b[38;5;28mprint\u001b[39m(\u001b[38;5;124m\"\u001b[39m\u001b[38;5;124mThis should fail it is the wrong password (Exception if mismatch)\u001b[39m\u001b[38;5;124m\"\u001b[39m)\n",
      "File \u001b[0;32m~/crypto/.crypto/lib/python3.10/site-packages/cryptography/hazmat/primitives/kdf/scrypt.py:73\u001b[0m, in \u001b[0;36mScrypt.verify\u001b[0;34m(self, key_material, expected_key)\u001b[0m\n\u001b[1;32m     71\u001b[0m derived_key \u001b[38;5;241m=\u001b[39m \u001b[38;5;28mself\u001b[39m\u001b[38;5;241m.\u001b[39mderive(key_material)\n\u001b[1;32m     72\u001b[0m \u001b[38;5;28;01mif\u001b[39;00m \u001b[38;5;129;01mnot\u001b[39;00m constant_time\u001b[38;5;241m.\u001b[39mbytes_eq(derived_key, expected_key):\n\u001b[0;32m---> 73\u001b[0m     \u001b[38;5;28;01mraise\u001b[39;00m InvalidKey(\u001b[38;5;124m\"\u001b[39m\u001b[38;5;124mKeys do not match.\u001b[39m\u001b[38;5;124m\"\u001b[39m)\n",
      "\u001b[0;31mInvalidKey\u001b[0m: Keys do not match."
     ]
    }
   ],
   "source": [
    "import os\n",
    "from cryptography.hazmat.primitives.kdf.scrypt import Scrypt\n",
    "from cryptography.hazmat.backends import default_backend\n",
    "\n",
    "salt = os.urandom(16)\n",
    "\n",
    "# n needs to be a power of 2\n",
    "kdf = Scrypt(salt=salt, length=32,\n",
    "             n=2**14, r=8, p=1,\n",
    "             backend=default_backend())\n",
    "key = kdf.derive (b\"my great password\")\n",
    "key_wrong = Scrypt(salt=salt, length=32,\n",
    "             n=2**14, r=8, p=1,\n",
    "             backend=default_backend()).derive (b\"my great wrong password\")\n",
    "print(f\"The key is {key}\")\n",
    "\n",
    "kdf2 = Scrypt(salt=salt, length=32,\n",
    "             n=2**14, r=8, p=1,\n",
    "             backend=default_backend())\n",
    "kdf2.verify(b\"my great password\", key)\n",
    "print(\"Success! (Exception if mismatch)\")\n",
    "\n",
    "kdf3 = Scrypt(salt=salt, length=32,\n",
    "             n=2**14, r=8, p=1,\n",
    "             backend=default_backend())\n",
    "kdf3.verify(b\"my great password\", key_wrong)\n",
    "print(\"This should fail it is the wrong password (Exception if mismatch)\")"
   ]
  },
  {
   "cell_type": "code",
   "execution_count": null,
   "id": "6ec13c72-2617-47de-91a0-dd743e6d9f52",
   "metadata": {},
   "outputs": [],
   "source": []
  }
 ],
 "metadata": {
  "kernelspec": {
   "display_name": "Python 3 (ipykernel)",
   "language": "python",
   "name": "python3"
  },
  "language_info": {
   "codemirror_mode": {
    "name": "ipython",
    "version": 3
   },
   "file_extension": ".py",
   "mimetype": "text/x-python",
   "name": "python",
   "nbconvert_exporter": "python",
   "pygments_lexer": "ipython3",
   "version": "3.10.4"
  }
 },
 "nbformat": 4,
 "nbformat_minor": 5
}
