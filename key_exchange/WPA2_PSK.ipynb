{
 "cells": [
  {
   "cell_type": "code",
   "execution_count": 1,
   "id": "3859964a-ede9-44e7-b897-cab56a553aab",
   "metadata": {
    "tags": []
   },
   "outputs": [
    {
     "name": "stdout",
     "output_type": "stream",
     "text": [
      "WPA: PMK - hexdump(len=32): d0 a9 86 c1 1a 6a 12 bc 7e 92 c1 db 05 08 c4 4c 44 64 4b 83 e0 75 07 58 80 d8 0b 2c 85 f8 bd 95\n",
      "Generated PMK is a798824a303b9b86f3c670664da8fddb3c201e9f02d143406e2d825d29f88959 the type is <class 'str'>\n"
     ]
    }
   ],
   "source": [
    "import hashlib\n",
    "import binascii\n",
    "\n",
    "def generate_psk(ssid, passphrase):\n",
    "    \"\"\"Generate a WPA2 PSK from an SSID and a passphrase.\"\"\"\n",
    "    # The number of PBKDF2 iterations to perform\n",
    "    iterations = 4096\n",
    "\n",
    "    # The length of the generated PSK\n",
    "    key_length = 32\n",
    "\n",
    "    # Use PBKDF2 to generate the PSK\n",
    "    psk = hashlib.pbkdf2_hmac('sha1', passphrase.encode('utf-8'), ssid.encode('utf-8'), iterations, key_length)\n",
    "\n",
    "    # Return the PSK as a hexadecimal string\n",
    "    return binascii.hexlify(psk).decode('utf-8')\n",
    "\n",
    "# Test the function\n",
    "ssid = 'testnetwork'\n",
    "passphrase = '6736f7b3c8'\n",
    "PMK=generate_psk(ssid, passphrase)\n",
    "print(\"WPA: PMK - hexdump(len=32): d0 a9 86 c1 1a 6a 12 bc 7e 92 c1 db 05 08 c4 4c 44 64 4b 83 e0 75 07 58 80 d8 0b 2c 85 f8 bd 95\")\n",
    "print(f\"Generated PMK is {PMK} the type is {type(PMK)}\")\n",
    "\n"
   ]
  },
  {
   "cell_type": "code",
   "execution_count": 2,
   "id": "e8cc95bf-2614-47b5-baf3-a90783b68015",
   "metadata": {
    "tags": []
   },
   "outputs": [
    {
     "name": "stdout",
     "output_type": "stream",
     "text": [
      "KCK: 1aa96f6ffc7410444e6d5a36db57827e\n",
      "KEK: e6fb19c061c670980e6cf770af20173e\n",
      "TK: 05465a1a473a42efa5902381bf71a0d4\n"
     ]
    }
   ],
   "source": [
    "import hashlib\n",
    "import binascii\n",
    "\n",
    "def generate_ptk(pmk, anonce, snonce, ap_mac, client_mac):\n",
    "    # Combine the parameters\n",
    "    data = min(ap_mac, client_mac) + max(ap_mac, client_mac) + min(anonce, snonce) + max(anonce, snonce)\n",
    "    \n",
    "    # Use the pseudo-random function to generate the PTK\n",
    "    ptk = hashlib.pbkdf2_hmac('sha1', pmk, data, 4096, 64)\n",
    "    \n",
    "    # Break the PTK into the separate keys\n",
    "    kck = ptk[0:16]  # Key Confirmation Key\n",
    "    kek = ptk[16:32]  # Key Encryption Key\n",
    "    tk = ptk[32:48]  # Temporal Key\n",
    "    \n",
    "    # Return the separate keys\n",
    "    return kck, kek, tk\n",
    "#line 3647\n",
    "# Test the function\n",
    "pmk = binascii.unhexlify('d0a986c11a6a12bc7e92c1db0508c44c44644b83e075075880d80b2c85f8bd95')  # Replace with your actual PMK\n",
    "anonce = binascii.unhexlify('84 5a 6d 70 02 85 19 4b c8 a8 aa 77 f7 39 87 93 8a 3f 53 f6 31 ee 90 3f fc 49 48 b3 01 47 9b cd'.replace(' ',''))  # Replace with your actual ANonce\n",
    "snonce = binascii.unhexlify(' b2 64 e2 09 ab 3a 06 1b e0 09 0b c1 9d 30 55 a8 31 77 02 fe 95 1b ed 8c 26 c9 bd ad 35 5c 5b 55'.replace(' ',''))  # Replace with your actual SNonce\n",
    "ap_mac = binascii.unhexlify('7c:10:c9:61:69:c4'.replace(':',''))  # Replace with your actual AP MAC\n",
    "client_mac = binascii.unhexlify('80:45:dd:71:d8:ce'.replace(':',''))  # Replace with your actual client MAC\n",
    "\n",
    "kck, kek, tk = generate_ptk(pmk, anonce, snonce, ap_mac, client_mac)\n",
    "print(\"KCK:\", binascii.hexlify(kck).decode('utf-8'))\n",
    "print(\"KEK:\", binascii.hexlify(kek).decode('utf-8'))\n",
    "print(\"TK:\", binascii.hexlify(tk).decode('utf-8'))\n"
   ]
  }
 ],
 "metadata": {
  "kernelspec": {
   "display_name": "Python 3 (ipykernel)",
   "language": "python",
   "name": "python3"
  },
  "language_info": {
   "codemirror_mode": {
    "name": "ipython",
    "version": 3
   },
   "file_extension": ".py",
   "mimetype": "text/x-python",
   "name": "python",
   "nbconvert_exporter": "python",
   "pygments_lexer": "ipython3",
   "version": "3.10.4"
  }
 },
 "nbformat": 4,
 "nbformat_minor": 5
}
