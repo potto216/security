{
 "cells": [
  {
   "cell_type": "code",
   "execution_count": 1,
   "id": "b523452c-e963-410b-bf89-83372ab64cec",
   "metadata": {
    "tags": []
   },
   "outputs": [
    {
     "name": "stdout",
     "output_type": "stream",
     "text": [
      "Alice's secret key is :  8\n",
      "Bob's secret key is :  8\n"
     ]
    }
   ],
   "source": [
    "# Here's how the code works:\n",
    "# 1. Alice and Bob agree on a primitive root g and a prime number p.\n",
    "# 2. Alice chooses a private key a and calculates a public key A = g^a mod p.\n",
    "# 3. Bob does the same with a private key b and calculates a public key B = g^b mod p.\n",
    "# 4. Alice and Bob exchange public keys.\n",
    "# 5. Alice calculates the shared secret as B^a mod p.\n",
    "# 6. Bob calculates the shared secret as A^b mod p.\n",
    "# At the end of this process, secretA and secretB should be equal, meaning that Alice and Bob have successfully exchanged a shared secret.\n",
    "def power(x, y, p):\n",
    "    # Initialize result\n",
    "    res = 1\n",
    "    # Update x if it is more than or equal to p\n",
    "    x = x % p\n",
    "    while y > 0:\n",
    "        # If y is odd, multiply x with result\n",
    "        if y & 1:\n",
    "            res = (res * x) % p\n",
    "        # y must be even now\n",
    "        y = y >> 1\n",
    "        x = (x * x) % p\n",
    "    return res\n",
    "\n",
    "# Defining a primitive root and a prime number\n",
    "g = 3 # primitive root modulo\n",
    "p = 17 # prime number\n",
    "\n",
    "# Alice generates a private key\n",
    "a = 6 # a is Alice's private key\n",
    "A = power(g, a, p) # A is Alice's public key\n",
    "\n",
    "# Bob generates a private key\n",
    "b = 15 # b is Bob's private key\n",
    "B = power(g, b, p) # B is Bob's public key\n",
    "\n",
    "# Now Alice and Bob exchange public keys and calculate shared secret\n",
    "\n",
    "# Alice's secret key\n",
    "secretA = power(B, a, p)\n",
    "\n",
    "# Bob's secret key\n",
    "secretB = power(A, b, p)\n",
    "\n",
    "print('Alice\\'s secret key is : ', secretA)\n",
    "print('Bob\\'s secret key is : ', secretB)\n"
   ]
  }
 ],
 "metadata": {
  "kernelspec": {
   "display_name": "Python 3 (ipykernel)",
   "language": "python",
   "name": "python3"
  },
  "language_info": {
   "codemirror_mode": {
    "name": "ipython",
    "version": 3
   },
   "file_extension": ".py",
   "mimetype": "text/x-python",
   "name": "python",
   "nbconvert_exporter": "python",
   "pygments_lexer": "ipython3",
   "version": "3.10.4"
  }
 },
 "nbformat": 4,
 "nbformat_minor": 5
}
