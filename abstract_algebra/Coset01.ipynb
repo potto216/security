{
 "cells": [
  {
   "cell_type": "code",
   "execution_count": 1,
   "metadata": {
    "collapsed": false
   },
   "outputs": [
    {
     "name": "stdout",
     "output_type": "stream",
     "text": [
      "Group G: Permutation Group with generators [(2,3), (1,2,3)]\n",
      "Subgroup H: Permutation Group with generators [(1,2)]\n"
     ]
    },
    {
     "name": "stdout",
     "output_type": "stream",
     "text": [
      "Coset 1: [(), (1,2)]\n",
      "Coset 2: [(2,3), (1,3,2)]\n",
      "Coset 3: [(1,2,3), (1,3)]\n"
     ]
    }
   ],
   "source": [
    "# Import SageMath\n",
    "import sage.all as sage\n",
    "\n",
    "# Define a permutation group\n",
    "G = sage.PermutationGroup([(1,2,3), (2,3)])\n",
    "\n",
    "# Print the group\n",
    "print(\"Group G:\", G)\n",
    "\n",
    "# Define a subgroup\n",
    "H = sage.PermutationGroup([(1,2)])\n",
    "\n",
    "# Print the subgroup\n",
    "print(\"Subgroup H:\", H)\n",
    "\n",
    "# Compute the cosets\n",
    "cosets = G.cosets(H)\n",
    "\n",
    "# Display the cosets\n",
    "for i, coset in enumerate(cosets):\n",
    "    print(f\"Coset {i+1}:\", coset)\n"
   ]
  },
  {
   "cell_type": "code",
   "execution_count": 4,
   "metadata": {
    "collapsed": false
   },
   "outputs": [
    {
     "name": "stdout",
     "output_type": "stream",
     "text": [
      "Generated group G: Permutation Group with generators [(1,2,3)]\n",
      "Symmetric group S3: Symmetric group of order 3! as a permutation group\n",
      "Is G isomorphic to S3? False\n"
     ]
    }
   ],
   "source": [
    "# Import SageMath\n",
    "import sage.all as sage\n",
    "\n",
    "# Define the set of generators\n",
    "#generators = [(1, 2), (1, 2, 3)]\n",
    "generators = [ (1, 2, 3)]\n",
    "\n",
    "# Create the permutation group using the generators\n",
    "G = sage.PermutationGroup(generators)\n",
    "\n",
    "# Print the group\n",
    "print(\"Generated group G:\", G)\n",
    "\n",
    "# Create the symmetric group S3\n",
    "S3 = sage.SymmetricGroup(3)\n",
    "\n",
    "# Print the symmetric group\n",
    "print(\"Symmetric group S3:\", S3)\n",
    "\n",
    "# Check if the generated group G is isomorphic to S3\n",
    "is_isomorphic = G.is_isomorphic(S3)\n",
    "print(\"Is G isomorphic to S3?\", is_isomorphic)\n"
   ]
  },
  {
   "cell_type": "code",
   "execution_count": 9,
   "metadata": {
    "collapsed": false
   },
   "outputs": [
    {
     "name": "stdout",
     "output_type": "stream",
     "text": [
      "Generated group G: Permutation Group with generators [(1,2,3,4)]\n",
      "Elements of the group:\n",
      "()\n",
      "(1,2,3,4)\n",
      "(1,3)(2,4)\n",
      "(1,4,3,2)\n"
     ]
    }
   ],
   "source": [
    "# Import SageMath\n",
    "import sage.all as sage\n",
    "\n",
    "# Define the generator as a permutation\n",
    "generator = sage.Permutation((1, 2, 3, 4))\n",
    "\n",
    "# Convert the permutation to a PermutationGroupElement\n",
    "generator_element = sage.PermutationGroupElement(generator)\n",
    "\n",
    "# Create a group using the generator\n",
    "G = sage.PermutationGroup([generator_element])\n",
    "\n",
    "# Print the group\n",
    "print(\"Generated group G:\", G)\n",
    "\n",
    "# Print the elements of the group\n",
    "print(\"Elements of the group:\")\n",
    "for element in G:\n",
    "    print(element)\n"
   ]
  },
  {
   "cell_type": "code",
   "execution_count": 0,
   "metadata": {
    "collapsed": false
   },
   "outputs": [
   ],
   "source": [
   ]
  }
 ],
 "metadata": {
  "kernelspec": {
   "argv": [
    "sage-9.8",
    "--python",
    "-m",
    "sage.repl.ipython_kernel",
    "--matplotlib=inline",
    "-f",
    "{connection_file}"
   ],
   "display_name": "SageMath 9.8",
   "env": {
   },
   "language": "sagemath",
   "metadata": {
    "cocalc": {
     "description": "Open-source mathematical software system",
     "priority": 10,
     "url": "https://www.sagemath.org/"
    }
   },
   "name": "sage-9.8",
   "resource_dir": "/ext/jupyter/kernels/sage-9.8"
  },
  "language_info": {
   "codemirror_mode": {
    "name": "ipython",
    "version": 3
   },
   "file_extension": ".py",
   "mimetype": "text/x-python",
   "name": "python",
   "nbconvert_exporter": "python",
   "pygments_lexer": "ipython3",
   "version": "3.11.1"
  }
 },
 "nbformat": 4,
 "nbformat_minor": 4
}