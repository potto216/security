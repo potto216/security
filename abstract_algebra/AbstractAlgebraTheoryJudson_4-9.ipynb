{
 "cells": [
  {
   "cell_type": "code",
   "execution_count": 7,
   "metadata": {
    "collapsed": false
   },
   "outputs": [
    {
     "name": "stdout",
     "output_type": "stream",
     "text": [
      "list_of_elements_of_multiplicative_group = [1, 3, 7, 9, 11, 13, 17, 19, 21, 23, 27, 29, 31, 33, 37, 39]\n",
      "unit_group_order = 16\n"
     ]
    }
   ],
   "source": [
    "R = Integers(40)\n",
    "print(f\"list_of_elements_of_multiplicative_group = {R.list_of_elements_of_multiplicative_group()}\")\n",
    "print(f\"unit_group_order = {R.unit_group_order()}\")"
   ]
  },
  {
   "cell_type": "code",
   "execution_count": 8,
   "metadata": {
    "collapsed": false
   },
   "outputs": [
    {
     "name": "stdout",
     "output_type": "stream",
     "text": [
      "[1, f, f^2, f^3, f^4, f^5]\n"
     ]
    }
   ],
   "source": [
    "# Importing SageMath\n",
    "import sage.all as sage\n",
    "\n",
    "# Define the ring Z9\n",
    "R = sage.IntegerModRing(9)\n",
    "\n",
    "# Create the group of units U(9)\n",
    "U_9 = R.unit_group()\n",
    "\n",
    "# Display the elements of the group of units U(9)\n",
    "U_9_elements = [x for x in U_9]\n",
    "print(U_9_elements)"
   ]
  }
 ],
 "metadata": {
  "kernelspec": {
   "argv": [
    "sage-10.0",
    "--python",
    "-m",
    "sage.repl.ipython_kernel",
    "--matplotlib=inline",
    "-f",
    "{connection_file}"
   ],
   "display_name": "SageMath 10.0",
   "env": {
   },
   "language": "sagemath",
   "metadata": {
    "cocalc": {
     "description": "Open-source mathematical software system",
     "priority": 1,
     "url": "https://www.sagemath.org/"
    }
   },
   "name": "sage-10.0",
   "resource_dir": "/ext/jupyter/kernels/sage-10.0"
  }
 },
 "nbformat": 4,
 "nbformat_minor": 4
}