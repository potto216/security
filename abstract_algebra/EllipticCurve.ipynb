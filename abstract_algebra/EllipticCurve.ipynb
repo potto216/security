{
 "cells": [
  {
   "cell_type": "code",
   "execution_count": 3,
   "metadata": {
    "collapsed": false,
    "scrolled": true
   },
   "outputs": [
    {
     "name": "stdout",
     "output_type": "stream",
     "text": [
      "Alice's private key: 84130267441485206023120640235011990926973869661565437211984564356397573688550\n",
      "Alice's public key: (107619508682277563443980516704067954290671649953511332539125160964633250328087 : 83780098468029207139642945357181524479990218733458964882259345460332751422051 : 1)\n",
      "Bob's private key: 102776624898318104782813858897672122445869000464231353653012844195486072438725\n",
      "Bob's public key: (74490730004288123104101540775882584817637797744782446698258464865034547963994 : 41768270081986672590631609362311419009170766580976828905674410425118856134488 : 1)\n",
      "Alice's Shared secret: (35273390766835284518480102945825409589494461858120165291848241544114257863049 : 73496070968456420070734270214644285526421459802964046952376425594240046109532 : 1)\n",
      "Bob's Shared secret: (35273390766835284518480102945825409589494461858120165291848241544114257863049 : 73496070968456420070734270214644285526421459802964046952376425594240046109532 : 1)\n"
     ]
    }
   ],
   "source": [
    "# Import necessary modules\n",
    "from sage.crypto.util import ascii_to_bin\n",
    "from sage.crypto.util import bin_to_ascii\n",
    "\n",
    "# Define the domain parameters for the secp256r1 curve (P-256)\n",
    "p = 0xFFFFFFFF00000001000000000000000000000000FFFFFFFFFFFFFFFFFFFFFFFF\n",
    "a = 0xFFFFFFFF00000001000000000000000000000000FFFFFFFFFFFFFFFFFFFFFFFC\n",
    "b = 0x5AC635D8AA3A93E7B3EBBD55769886BC651D06B0CC53B0F63BCE3C3E27D2604B\n",
    "Gx = 0x6B17D1F2E12C4247F8BCE6E563A440F277037D812DEB33A0F4A13945D898C296\n",
    "Gy = 0x4FE342E2FE1A7F9B8EE7EB4A7C0F9E162BCE33576B315ECECBB6406837BF51F5\n",
    "n = 0xFFFFFFFF00000000FFFFFFFFFFFFFFFFBCE6FAADA7179E84F3B9CAC2FC632551\n",
    "\n",
    "# Create the elliptic curve over a finite field using the domain parameters\n",
    "E = EllipticCurve(GF(p), [a, b])\n",
    "\n",
    "# Define the base point G on the curve\n",
    "G = E(Gx, Gy)\n",
    "\n",
    "# Generate private keys for Alice and Bob\n",
    "alice_private_key = randint(1, n - 1)\n",
    "bob_private_key = randint(1, n - 1)\n",
    "\n",
    "# Compute public keys for Alice and Bob\n",
    "alice_public_key = alice_private_key * G\n",
    "bob_public_key = bob_private_key * G\n",
    "\n",
    "# Perform ECDH key exchange\n",
    "alice_shared_secret = alice_private_key * bob_public_key\n",
    "bob_shared_secret = bob_private_key * alice_public_key\n",
    "\n",
    "# Check if the shared secrets are the same (which they should be)\n",
    "assert alice_shared_secret == bob_shared_secret\n",
    "\n",
    "print(\"Alice's private key:\", alice_private_key)\n",
    "print(\"Alice's public key:\", alice_public_key)\n",
    "print(\"Bob's private key:\", bob_private_key)\n",
    "print(\"Bob's public key:\", bob_public_key)\n",
    "print(\"Alice's Shared secret:\", alice_shared_secret)\n",
    "print(\"Bob's Shared secret:\", bob_shared_secret)\n"
   ]
  },
  {
   "cell_type": "code",
   "execution_count": 6,
   "metadata": {
    "collapsed": false
   },
   "outputs": [
    {
     "name": "stdout",
     "output_type": "stream",
     "text": [
      "Original message: b'Hello, Bob!'\n",
      "Ciphertext: b'\\xd6BV\\x99p\\xc8\\xf0r\\xf3\\xfcM'\n",
      "Decrypted message: b'Hello, Bob!'\n"
     ]
    }
   ],
   "source": [
    "# Import necessary modules\n",
    "from Crypto.Cipher import AES\n",
    "from Crypto.Random import get_random_bytes\n",
    "from sage.all import *\n",
    "\n",
    "# Define the domain parameters for the secp256r1 curve (P-256)\n",
    "# (same as before)\n",
    "\n",
    "# Create the elliptic curve over a finite field using the domain parameters\n",
    "# (same as before)\n",
    "\n",
    "# Define the base point G on the curve\n",
    "# (same as before)\n",
    "\n",
    "# Generate private keys for Alice and Bob\n",
    "# (same as before)\n",
    "\n",
    "# Compute public keys for Alice and Bob\n",
    "# (same as before)\n",
    "\n",
    "# Perform ECDH key exchange\n",
    "# (same as before)\n",
    "\n",
    "# Check if the shared secrets are the same (which they should be)\n",
    "# (same as before)b\n",
    "\n",
    "# Derive a 128-bit symmetric key from the shared secret for encryption\n",
    "symmetric_key = int(alice_shared_secret.xy()[0]) % 2^128\n",
    "\n",
    "# Convert the symmetric key to bytes\n",
    "symmetric_key_bytes = int(symmetric_key).to_bytes(16, 'big')\n",
    "\n",
    "# Encrypt a text message using AES-128 with the derived symmetric key\n",
    "message = b\"Hello, Bob!\"\n",
    "cipher = AES.new(symmetric_key_bytes, AES.MODE_EAX)\n",
    "nonce = cipher.nonce\n",
    "ciphertext, tag = cipher.encrypt_and_digest(message)\n",
    "\n",
    "# Decrypt the ciphertext using AES-128 with the derived symmetric key\n",
    "cipher = AES.new(symmetric_key_bytes, AES.MODE_EAX, nonce=nonce)\n",
    "decrypted_message = cipher.decrypt(ciphertext)\n",
    "\n",
    "print(\"Original message:\", message)\n",
    "print(\"Ciphertext:\", ciphertext)\n",
    "print(\"Decrypted message:\", decrypted_message)\n"
   ]
  },
  {
   "cell_type": "code",
   "execution_count": 7,
   "metadata": {
    "collapsed": false
   },
   "outputs": [
    {
     "name": "stdout",
     "output_type": "stream",
     "text": [
      "Points on the elliptic curve:\n",
      "(0, 1)\n",
      "(0, 6)\n",
      "(1, 2)\n",
      "(1, 5)\n"
     ]
    }
   ],
   "source": [
    "# Define the prime number p for the finite field\n",
    "p = 7\n",
    "\n",
    "# Define the coefficients a and b for the elliptic curve equation y^2 = x^3 + ax + b\n",
    "a = 2\n",
    "b = 1\n",
    "\n",
    "# Create the finite field F_p\n",
    "F_p = GF(p)\n",
    "\n",
    "# Define a function to check if a given (x, y) coordinate is on the elliptic curve\n",
    "def is_on_curve(x, y, a, b, field):\n",
    "    return field(y**2) == field(x**3 + a * x + b)\n",
    "\n",
    "# Iterate through all possible (x, y) coordinates in the finite field and print the points on the curve\n",
    "points = []\n",
    "for x in range(p):\n",
    "    for y in range(p):\n",
    "        if is_on_curve(x, y, a, b, F_p):\n",
    "            points.append((x, y))\n",
    "\n",
    "print(\"Points on the elliptic curve:\")\n",
    "for point in points:\n",
    "    print(\"({}, {})\".format(point[0], point[1]))\n"
   ]
  }
 ],
 "metadata": {
  "kernelspec": {
   "argv": [
    "sage-9.8",
    "--python",
    "-m",
    "sage.repl.ipython_kernel",
    "--matplotlib=inline",
    "-f",
    "{connection_file}"
   ],
   "display_name": "SageMath 9.8",
   "env": {
   },
   "language": "sagemath",
   "metadata": {
    "cocalc": {
     "description": "Open-source mathematical software system",
     "priority": 1,
     "url": "https://www.sagemath.org/"
    }
   },
   "name": "sage-9.8",
   "resource_dir": "/ext/jupyter/kernels/sage-9.8"
  }
 },
 "nbformat": 4,
 "nbformat_minor": 4
}