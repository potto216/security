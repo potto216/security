{
 "cells": [
  {
   "cell_type": "markdown",
   "id": "e2001e07-4268-4800-9249-1ded6d785adc",
   "metadata": {},
   "source": [
    "Counter mode only provides confidentiality and changing one byte by an attacker only changes one byte of plaintext, unlike Cipher block chaining mode"
   ]
  },
  {
   "cell_type": "code",
   "execution_count": 1,
   "id": "7549979c-279d-4ec2-9743-2539f444ce65",
   "metadata": {
    "tags": []
   },
   "outputs": [
    {
     "name": "stdout",
     "output_type": "stream",
     "text": [
      "Decrypted message:  This is a secret message. Attack at dawn.\n"
     ]
    }
   ],
   "source": [
    "# This demonstrates how someone could change a message if the knew the plain text and position, but not the key\n",
    "import os\n",
    "from cryptography.hazmat.primitives.ciphers import Cipher, algorithms, modes\n",
    "from cryptography.hazmat.backends import default_backend\n",
    "\n",
    "# Key and nonce (IV for CTR mode) generation\n",
    "key = os.urandom(32)\n",
    "nonce = os.urandom(16)\n",
    "\n",
    "# Create a plaintext message\n",
    "message = \"This is a secret message. Don't let anyone see it.\"\n",
    "\n",
    "# Create a cipher object\n",
    "aesCipher = Cipher(algorithms.AES(key), modes.CTR(nonce), backend=default_backend())\n",
    "\n",
    "# Encryption\n",
    "aesEncryptor = aesCipher.encryptor()\n",
    "ciphertext = aesEncryptor.update(message.encode()) + aesEncryptor.finalize()\n",
    "\n",
    "# At this point, suppose an attacker knows that \"Don't let anyone see it.\" is part of the plaintext.\n",
    "# They want to change that to \"Attack at dawn.\"\n",
    "\n",
    "known_plaintext = \"Don't let anyone see it.\".encode()\n",
    "new_plaintext =   \"Attack at dawn.\".encode()\n",
    "known_ciphertext = ciphertext[-len(known_plaintext):]  # Assuming the attacker knows where in the ciphertext this part is\n",
    "\n",
    "# The zip() function in Python returns an iterator of tuples, where the i-th tuple contains the i-th element from each\n",
    "# of the input iterables. The iterator stops when the shortest input iterable is exhausted.\n",
    "\n",
    "# So if encrypted_counter and new_plaintext are not of the same length, the zip() function will stop at the end\n",
    "# of the shortest one. This means the new_ciphertext will be truncated to the length of the shortest input iterable.\n",
    "\n",
    "# This scenario could happen if the new_plaintext you're trying to substitute is longer than the known_plaintext.\n",
    "# In the provided code example, it's assumed that the new_plaintext and the known_plaintext are of the same length\n",
    "# to avoid such a situation.\n",
    "\n",
    "# In a more generalized scenario where you're trying to substitute a new_plaintext that's longer than the known_plaintext,\n",
    "# you'll face problems because AES-CTR uses a unique counter value for each block of plaintext. If your new plaintext \n",
    "# spans more blocks than the known plaintext, you won't have the correct counter values for the additional blocks. To \n",
    "# successfully substitute a longer plaintext, you'd need to know the entire plaintext and ciphertext, or at least \n",
    "# enough of it to determine the counter values for all blocks you want to modify.\n",
    "\n",
    "# The attacker can XOR the known ciphertext with the known plaintext to recover the encrypted counter\n",
    "encrypted_counter = bytes(a ^ b for a, b in zip(known_ciphertext, known_plaintext))\n",
    "\n",
    "# Then XOR that with the new plaintext to produce a new ciphertext\n",
    "new_ciphertext = bytes(a ^ b for a, b in zip(encrypted_counter, new_plaintext))\n",
    "\n",
    "# The attacker replaces the old ciphertext with the new one in the message\n",
    "modified_ciphertext = ciphertext[:-len(known_plaintext)] + new_ciphertext\n",
    "\n",
    "# Decryption\n",
    "aesDecryptor = aesCipher.decryptor()\n",
    "decryptedtext = aesDecryptor.update(modified_ciphertext) + aesDecryptor.finalize()\n",
    "\n",
    "print(\"Decrypted message: \", decryptedtext.decode())"
   ]
  },
  {
   "cell_type": "code",
   "execution_count": 1,
   "id": "ce3310c0-1e44-4a74-a322-9aff20ae525d",
   "metadata": {},
   "outputs": [
    {
     "name": "stdout",
     "output_type": "stream",
     "text": [
      "is_fixed_text: YYYYYYYYYYYYYYYYYYY..........................\n",
      "    message 1: This is the header.ABCDEFGHIJKLMNOPQRSTUVWXYZ\n",
      "    message 2: This is the header.BCDEFGHIJKLMNOPQRSTUVWXYZA\n"
     ]
    }
   ],
   "source": [
    "# This demonstrates how someone could determine where multiple messages are the same if the same IV and key is used for them. \n",
    "# This allows an attacker to know what part of the plaintext to focus on capturing so they could modify future messages or get the keys\n",
    "import os\n",
    "from cryptography.hazmat.primitives.ciphers import Cipher, algorithms, modes\n",
    "from cryptography.hazmat.backends import default_backend\n",
    "\n",
    "# Key and nonce (IV for CTR mode) generation\n",
    "key = os.urandom(32)\n",
    "nonce = os.urandom(16)\n",
    "\n",
    "# Create a plaintext message\n",
    "message1 = \"This is the header.ABCDEFGHIJKLMNOPQRSTUVWXYZ\"\n",
    "message2 = \"This is the header.BCDEFGHIJKLMNOPQRSTUVWXYZA\"\n",
    "\n",
    "# Create a cipher object\n",
    "aesCipher1 = Cipher(algorithms.AES(key), modes.CTR(nonce), backend=default_backend())\n",
    "aesCipher2 = Cipher(algorithms.AES(key), modes.CTR(nonce), backend=default_backend())\n",
    "\n",
    "# Encryption\n",
    "aesEncryptor1 = aesCipher1.encryptor()\n",
    "ciphertext1 = aesEncryptor1.update(message1.encode()) + aesEncryptor1.finalize()\n",
    "\n",
    "aesEncryptor2 = aesCipher2.encryptor()\n",
    "ciphertext2 = aesEncryptor2.update(message2.encode()) + aesEncryptor2.finalize()\n",
    "\n",
    "# The attacker can look for where the message is unchanged this is because\n",
    "# c1 = m1 ^ K\n",
    "# c2 = m2 ^ K\n",
    "# c1 ^ c2 = (m1 ^ K) ^ (m2 ^ K)\n",
    "# c1 ^ c2 = (m1 ^ m2) ^ (K ^ K)\n",
    "# c1 ^ c2 = (m1 ^ m2) # This will be zero where the message is the same\n",
    "c1_xor_c2_message = bytes(a ^ b for a, b in zip(ciphertext1, ciphertext2))\n",
    "\n",
    "is_fixed_text = [ 'Y' if c1_xor_c2 == 0 else '.'  for c1_xor_c2 in c1_xor_c2_message]\n",
    "print(f\"is_fixed_text: {''.join(is_fixed_text)}\")\n",
    "print(f\"    message 1: {message1}\")\n",
    "print(f\"    message 2: {message2}\")"
   ]
  }
 ],
 "metadata": {
  "kernelspec": {
   "display_name": "Python 3 (ipykernel)",
   "language": "python",
   "name": "python3"
  },
  "language_info": {
   "codemirror_mode": {
    "name": "ipython",
    "version": 3
   },
   "file_extension": ".py",
   "mimetype": "text/x-python",
   "name": "python",
   "nbconvert_exporter": "python",
   "pygments_lexer": "ipython3",
   "version": "3.10.4"
  }
 },
 "nbformat": 4,
 "nbformat_minor": 5
}
