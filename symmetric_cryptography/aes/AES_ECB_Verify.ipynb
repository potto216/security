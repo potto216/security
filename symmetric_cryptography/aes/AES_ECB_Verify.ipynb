{
 "cells": [
  {
   "cell_type": "code",
   "execution_count": 1,
   "id": "07281e94-6f0d-4c01-89b1-e3b95aefaa05",
   "metadata": {
    "tags": []
   },
   "outputs": [
    {
     "name": "stdout",
     "output_type": "stream",
     "text": [
      "Test 0. Expected 0336763e966d92595a567cc9ce537f5e, got 0336763e966d92595a567cc9ce537f5e. Result [PASS].\n",
      "Test 1. Expected a9a1631bf4996954ebc093957b234589, got a9a1631bf4996954ebc093957b234589. Result [PASS].\n",
      "Test 2. Expected ff4f8391a6a40ca5b25d23bedd44a597, got ff4f8391a6a40ca5b25d23bedd44a597. Result [PASS].\n",
      "Test 3. Expected dc43be40be0e53712f7e2bf5ca707209, got dc43be40be0e53712f7e2bf5ca707209. Result [PASS].\n"
     ]
    }
   ],
   "source": [
    "# https://csrc.nist.gov/CSRC/media/Projects/Cryptographic-Algorithm-Validation-Program/documents/aes/KAT_AES.zip. \n",
    "# NEVER USE: ECB is not secure!\n",
    "from cryptography.hazmat.primitives.ciphers import Cipher, algorithms, modes\n",
    "from cryptography.hazmat.backends import default_backend\n",
    "\n",
    "# NIST AES ECBGFSbox128.rsp ENCRYPT Kats\n",
    "# First value of each pair is plaintext\n",
    "# Second value of each pair is ciphertext\n",
    "nist_kats = [\n",
    "     ('f34481ec3cc627bacd5dc3fb08f273e6',\n",
    "         '0336763e966d92595a567cc9ce537f5e'),\n",
    "     ('9798c4640bad75c7c3227db910174e72',\n",
    "         'a9a1631bf4996954ebc093957b234589'),\n",
    "     ('96ab5c2ff612d9dfaae8c31f30c42168',\n",
    "         'ff4f8391a6a40ca5b25d23bedd44a597'),\n",
    "     ('6a118a874519e64e9963798a503f1d35 ',\n",
    "         'dc43be40be0e53712f7e2bf5ca707209')\n",
    "]\n",
    "\n",
    "# 16–byte test key of all zeros.\n",
    "test_key = bytes.fromhex('00000000000000000000000000000000')\n",
    "\n",
    "aesCipher = Cipher(algorithms.AES(test_key),\n",
    "                   modes.ECB(),\n",
    "                   backend=default_backend())\n",
    "aesEncryptor = aesCipher.encryptor()\n",
    "aesDecryptor = aesCipher.decryptor()\n",
    "\n",
    "# test each input\n",
    "for index, kat in enumerate(nist_kats):\n",
    "    plaintext, want_ciphertext = kat\n",
    "    plaintext_bytes = bytes.fromhex(plaintext)\n",
    "    ciphertext_bytes = aesEncryptor.update(plaintext_bytes)\n",
    "    got_ciphertext = ciphertext_bytes.hex()\n",
    "\n",
    "    result = \"[PASS]\" if got_ciphertext == want_ciphertext else \"[FAIL]\"\n",
    "    print(\"Test {}. Expected {}, got {}. Result {}.\".format(\n",
    "        index, want_ciphertext, got_ciphertext, result))"
   ]
  }
 ],
 "metadata": {
  "kernelspec": {
   "display_name": "Python 3 (ipykernel)",
   "language": "python",
   "name": "python3"
  },
  "language_info": {
   "codemirror_mode": {
    "name": "ipython",
    "version": 3
   },
   "file_extension": ".py",
   "mimetype": "text/x-python",
   "name": "python",
   "nbconvert_exporter": "python",
   "pygments_lexer": "ipython3",
   "version": "3.10.4"
  }
 },
 "nbformat": 4,
 "nbformat_minor": 5
}
