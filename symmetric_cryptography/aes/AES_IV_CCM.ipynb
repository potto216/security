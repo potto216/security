{
 "cells": [
  {
   "cell_type": "markdown",
   "id": "2820efae",
   "metadata": {},
   "source": [
    "### Overview\n",
    "AES CCM (Counter with CBC-MAC) and AES CTR (Counter) are both modes of operation for the AES (Advanced Encryption Standard) algorithm, but they serve different purposes and have different characteristics. Here's a breakdown of how they differ:\n",
    "\n",
    "### AES CTR (Counter Mode)\n",
    "- Encryption Only: AES CTR mode provides encryption but does not provide any integrity verification or authentication. It simply encrypts data.\n",
    "- Counter as Nonce: It uses a counter value that is incremented for each block of plaintext. The counter, along with a nonce (number used once), is used to generate the block cipher input.\n",
    "- Parallelizable: Encryption and decryption processes are parallelizable because each block is encrypted independently of the others.\n",
    "- Efficiency: It can operate efficiently on large streams of data and is suitable for environments where only confidentiality is required.\n",
    "\n",
    "### AES CCM (Counter with CBC-MAC)\n",
    "- Encryption and Authentication: AES CCM mode provides both encryption and data authentication. It combines CTR mode for encryption with CBC-MAC (Cipher Block Chaining Message Authentication Code) for authentication.\n",
    "- Non-Parallelizable Authentication: The authentication step (CBC-MAC) is not parallelizable because it processes each block of data sequentially, depending on the output of the previous block.\n",
    "- Nonce and Additional Data: It uses a nonce (which must not be repeated with the same key) and can incorporate additional authenticated data (AAD) into the authentication process without encrypting it, providing data integrity and authenticity for both the encrypted payload and additional plaintext data.\n",
    "- Overhead: CCM mode has some overhead due to the authentication tag, which must be sent along with the ciphertext to verify the integrity and authenticity of the data at the receiver's end.\n",
    "- Use Cases: It is widely used in applications where both data integrity and confidentiality are important, such as in wireless communication standards like IEEE 802.11i (Wi-Fi) and 802.15.4 (used in Thread and Zigbee).\n",
    "\n",
    "### Summary\n",
    "The primary difference between AES CTR and AES CCM is that CTR provides only confidentiality, whereas CCM provides confidentiality, integrity, and authenticity. This makes CCM a more comprehensive solution for security, but it introduces more computational overhead and complexity compared to CTR. These characteristics determine their suitability for different applications based on security requirements."
   ]
  },
  {
   "cell_type": "code",
   "execution_count": 2,
   "id": "cb59e79e",
   "metadata": {},
   "outputs": [
    {
     "name": "stdout",
     "output_type": "stream",
     "text": [
      "Encrypted message: b'\\xf1\\xe3\\x1a\\xb9@\\xe2\\x12Pw\\x99\\x9aX\\r\\x120\\xe3>\\x97\\x03Q\\xec\\xa5\\xba.\\xc2\\x9f\\x80\\x19]\\xa5]\\xe3,\\\\\\xb9q\\x9d\\xc3\\x89\\xae_\\xc0{\\x1f&:\\x02\\xc3\\xc7\\x82\\xa4\\x01\\x19\\xff\\xce\\xa7\\x139\\xd8\\xbbe\\xd2\\xa3\\xec\\xf6V'\n",
      "Decrypted message: This is a secret message. Don't let anyone see it.\n"
     ]
    }
   ],
   "source": [
    "import os\n",
    "from cryptography.hazmat.primitives.ciphers import Cipher, algorithms, modes\n",
    "from cryptography.hazmat.backends import default_backend\n",
    "from cryptography.hazmat.primitives.ciphers.aead import AESCCM\n",
    "\n",
    "def encrypt_message(message, key, nonce):\n",
    "    # Ensure the key and nonce lengths are suitable for AES-CCM\n",
    "    aesccm = AESCCM(key)\n",
    "    ciphertext = aesccm.encrypt(nonce, message.encode(), None)\n",
    "    return ciphertext\n",
    "\n",
    "def decrypt_message(ciphertext, key, nonce):\n",
    "    try:\n",
    "        aesccm = AESCCM(key)\n",
    "        plaintext = aesccm.decrypt(nonce, ciphertext, None)\n",
    "        return plaintext.decode()\n",
    "    except Exception as e:\n",
    "        print(\"Decryption failed:\", e)\n",
    "        return None\n",
    "\n",
    "# Key and nonce (IV for CCM mode) generation\n",
    "key = os.urandom(32)  # AES-256 requires a 32-byte key\n",
    "nonce = os.urandom(13)  # CCM mode recommends a 13-byte nonce for 802.15.4\n",
    "\n",
    "# Create a plaintext message\n",
    "message = \"This is a secret message. Don't let anyone see it.\"\n",
    "\n",
    "# Encryption\n",
    "ciphertext = encrypt_message(message, key, nonce)\n",
    "print(\"Encrypted message:\", ciphertext)\n",
    "\n",
    "# Decryption\n",
    "decrypted_message = decrypt_message(ciphertext, key, nonce)\n",
    "print(\"Decrypted message:\", decrypted_message)\n"
   ]
  },
  {
   "cell_type": "code",
   "execution_count": 1,
   "id": "6e601438",
   "metadata": {},
   "outputs": [
    {
     "name": "stdout",
     "output_type": "stream",
     "text": [
      "Encrypted message: b'<\\x90\\xb7<\\x935>l\\x99\\xc8H\\x8d\\x0b\\xedv\\x00\\x14&j\\x98\\xfa^!t\\xce\\xa0\\x15\\x99?#K\\xa6\\xf5M\\xa1\\xa5%\\xcdm\\x96h\\xfd\\xab\\xd9E\\xe1\\xb0N\\xd8Y>K\\xe6\\x13\\xde\\xf6\\x93 fg\\x8b\\xbd\\x1c\\xc4\\x01c'\n",
      "Decrypted message: This is a secret message. Don't let anyone see it.\n"
     ]
    }
   ],
   "source": [
    "import os\n",
    "from cryptography.hazmat.primitives.ciphers import Cipher, algorithms, modes\n",
    "from cryptography.hazmat.backends import default_backend\n",
    "from cryptography.hazmat.primitives.ciphers.aead import AESCCM\n",
    "\n",
    "def hex_to_bytes(hex_string):\n",
    "    # Converts a hex string into bytes, removing spaces\n",
    "    return bytes.fromhex(hex_string.replace(\" \", \"\"))\n",
    "\n",
    "def encrypt_message(message, key, nonce):\n",
    "    # Ensure the key and nonce lengths are suitable for AES-CCM\n",
    "    aesccm = AESCCM(key)\n",
    "    ciphertext = aesccm.encrypt(nonce, message.encode(), None)\n",
    "    return ciphertext\n",
    "\n",
    "def decrypt_message(ciphertext, key, nonce):\n",
    "    try:\n",
    "        aesccm = AESCCM(key)\n",
    "        plaintext = aesccm.decrypt(nonce, ciphertext, None)\n",
    "        return plaintext.decode()\n",
    "    except Exception as e:\n",
    "        print(\"Decryption failed:\", e)\n",
    "        return None\n",
    "\n",
    "# Key and nonce (IV for CCM mode) input as hex strings\n",
    "key_hex = \"a3 8e 24 ff a3 8e 24 ff a3 8e 24 ff a3 8e 24 ff\"  # Example 32-byte key\n",
    "nonce_hex = \"ff ee dd cc bb aa 99 88 77 66 55 44 33\"  # Example 13-byte nonce\n",
    "\n",
    "# Convert hex strings to bytes\n",
    "key = hex_to_bytes(key_hex)\n",
    "nonce = hex_to_bytes(nonce_hex)\n",
    "\n",
    "# Create a plaintext message\n",
    "message = \"This is a secret message. Don't let anyone see it.\"\n",
    "\n",
    "# Encryption\n",
    "ciphertext = encrypt_message(message, key, nonce)\n",
    "print(\"Encrypted message:\", ciphertext)\n",
    "\n",
    "# Decryption\n",
    "decrypted_message = decrypt_message(ciphertext, key, nonce)\n",
    "print(\"Decrypted message:\", decrypted_message)\n"
   ]
  }
 ],
 "metadata": {
  "kernelspec": {
   "display_name": "Python 3 (ipykernel)",
   "language": "python",
   "name": "python3"
  },
  "language_info": {
   "codemirror_mode": {
    "name": "ipython",
    "version": 3
   },
   "file_extension": ".py",
   "mimetype": "text/x-python",
   "name": "python",
   "nbconvert_exporter": "python",
   "pygments_lexer": "ipython3",
   "version": "3.10.4"
  }
 },
 "nbformat": 4,
 "nbformat_minor": 5
}
