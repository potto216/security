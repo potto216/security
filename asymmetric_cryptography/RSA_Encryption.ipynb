{
 "cells": [
  {
   "cell_type": "code",
   "execution_count": 2,
   "id": "eef93941-5b64-49a2-9a6c-6fbda5fdde11",
   "metadata": {
    "tags": []
   },
   "outputs": [
    {
     "name": "stdout",
     "output_type": "stream",
     "text": [
      "private_key = <cryptography.hazmat.backends.openssl.rsa._RSAPrivateKey object at 0x7feec42f3cd0>, public_key = <cryptography.hazmat.backends.openssl.rsa._RSAPublicKey object at 0x7feec42f2aa0>\n"
     ]
    }
   ],
   "source": [
    "from cryptography.hazmat.backends import default_backend\n",
    "from cryptography.hazmat.primitives.asymmetric import rsa\n",
    "from cryptography.hazmat.primitives import serialization\n",
    "\n",
    "# Generate a private key.\n",
    "private_key = rsa.generate_private_key(\n",
    "    public_exponent=65537,\n",
    "    key_size=2048,\n",
    "    backend=default_backend()\n",
    ")\n",
    "\n",
    "# Extract the public key from the private key.\n",
    "public_key = private_key.public_key()\n",
    "\n",
    "# Convert the private key into bytes. We won't encrypt it this time.\n",
    "private_key_bytes = private_key.private_bytes(\n",
    "   encoding=serialization.Encoding.PEM,\n",
    "   format=serialization.PrivateFormat.TraditionalOpenSSL,\n",
    "   encryption_algorithm=serialization.NoEncryption()\n",
    ")\n",
    "\n",
    "# Convert the public key into bytes.\n",
    "public_key_bytes = public_key.public_bytes(\n",
    "   encoding=serialization.Encoding.PEM,\n",
    "   format=serialization.PublicFormat.SubjectPublicKeyInfo\n",
    ")\n",
    "\n",
    "# Convert the private key bytes back to a key.\n",
    "# Because there is no encryption of the key, there is no password.\n",
    "private_key = serialization.load_pem_private_key(\n",
    "   private_key_bytes,\n",
    "   backend=default_backend(),\n",
    "   password=None)\n",
    "\n",
    "public_key = serialization.load_pem_public_key(\n",
    "   public_key_bytes,\n",
    "   backend=default_backend())\n",
    "\n",
    "print(f\"private_key = {private_key}, public_key = {public_key}\")"
   ]
  },
  {
   "cell_type": "code",
   "execution_count": null,
   "id": "ba1cca32-8c38-4fb9-a8e4-3c071511bbe9",
   "metadata": {},
   "outputs": [],
   "source": [
    "https://github.com/user-name-is-taken/new_prime_sieve/blob/master/best_sieve.py\n",
    "https://github.com/user-name-is-taken/RSA---pyhon-3"
   ]
  }
 ],
 "metadata": {
  "kernelspec": {
   "display_name": "Python 3 (ipykernel)",
   "language": "python",
   "name": "python3"
  },
  "language_info": {
   "codemirror_mode": {
    "name": "ipython",
    "version": 3
   },
   "file_extension": ".py",
   "mimetype": "text/x-python",
   "name": "python",
   "nbconvert_exporter": "python",
   "pygments_lexer": "ipython3",
   "version": "3.10.4"
  }
 },
 "nbformat": 4,
 "nbformat_minor": 5
}
