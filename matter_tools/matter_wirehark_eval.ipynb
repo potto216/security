{
 "cells": [
  {
   "cell_type": "code",
   "execution_count": 23,
   "metadata": {},
   "outputs": [
    {
     "ename": "NameError",
     "evalue": "name 'next_layer' is not defined",
     "output_type": "error",
     "traceback": [
      "\u001b[0;31m---------------------------------------------------------------------------\u001b[0m",
      "\u001b[0;31mNameError\u001b[0m                                 Traceback (most recent call last)",
      "Cell \u001b[0;32mIn[23], line 14\u001b[0m\n\u001b[1;32m     12\u001b[0m \u001b[38;5;28;01mfor\u001b[39;00m i, packet \u001b[38;5;129;01min\u001b[39;00m \u001b[38;5;28menumerate\u001b[39m(packets):\n\u001b[1;32m     13\u001b[0m     \u001b[38;5;28;01mif\u001b[39;00m UDP \u001b[38;5;129;01min\u001b[39;00m packet \u001b[38;5;129;01mand\u001b[39;00m \u001b[38;5;124mb\u001b[39m\u001b[38;5;124m'\u001b[39m\u001b[38;5;124mMatter\u001b[39m\u001b[38;5;124m'\u001b[39m \u001b[38;5;129;01min\u001b[39;00m \u001b[38;5;28mbytes\u001b[39m(packet[UDP]\u001b[38;5;241m.\u001b[39mpayload):\n\u001b[0;32m---> 14\u001b[0m         \u001b[38;5;28mprint\u001b[39m(\u001b[38;5;124mf\u001b[39m\u001b[38;5;124m'\u001b[39m\u001b[38;5;124mNext layer after UDP in frame \u001b[39m\u001b[38;5;132;01m{\u001b[39;00mi\u001b[38;5;250m \u001b[39m\u001b[38;5;241m+\u001b[39m\u001b[38;5;250m \u001b[39m\u001b[38;5;241m1\u001b[39m\u001b[38;5;132;01m}\u001b[39;00m\u001b[38;5;124m: \u001b[39m\u001b[38;5;132;01m{\u001b[39;00m\u001b[43mnext_layer\u001b[49m\u001b[38;5;132;01m}\u001b[39;00m\u001b[38;5;124m'\u001b[39m)            \n\u001b[1;32m     15\u001b[0m         \u001b[38;5;28mprint\u001b[39m(\u001b[38;5;124mf\u001b[39m\u001b[38;5;124m'\u001b[39m\u001b[38;5;124mProcessing frame \u001b[39m\u001b[38;5;132;01m{\u001b[39;00mi\u001b[38;5;250m \u001b[39m\u001b[38;5;241m+\u001b[39m\u001b[38;5;250m \u001b[39m\u001b[38;5;241m1\u001b[39m\u001b[38;5;132;01m}\u001b[39;00m\u001b[38;5;124m...\u001b[39m\u001b[38;5;124m'\u001b[39m)\n\u001b[1;32m     16\u001b[0m         matter_payloads\u001b[38;5;241m.\u001b[39mappend({\n\u001b[1;32m     17\u001b[0m             \u001b[38;5;124m'\u001b[39m\u001b[38;5;124mframe_number\u001b[39m\u001b[38;5;124m'\u001b[39m: i \u001b[38;5;241m+\u001b[39m \u001b[38;5;241m1\u001b[39m,  \u001b[38;5;66;03m# Frame numbers are typically 1-based\u001b[39;00m\n\u001b[1;32m     18\u001b[0m             \u001b[38;5;124m'\u001b[39m\u001b[38;5;124mpayload\u001b[39m\u001b[38;5;124m'\u001b[39m: \u001b[38;5;28mbytes\u001b[39m(packet[UDP]\u001b[38;5;241m.\u001b[39mpayload)\n\u001b[1;32m     19\u001b[0m         })\n",
      "\u001b[0;31mNameError\u001b[0m: name 'next_layer' is not defined"
     ]
    }
   ],
   "source": [
    "from scapy.all import rdpcap\n",
    "from scapy.layers.inet import UDP\n",
    "\n",
    "# Load the pcap file\n",
    "packets = rdpcap('/tmp/WiresharkRemoteCaptures_01.pcap')\n",
    "\n",
    "# Extract the UDP payload from frame 290\n",
    "udp_payload = bytes(packets[289][UDP].payload)\n",
    "\n",
    "# Extract the UDP payload from all frames whose UDP Payload is Matter\n",
    "matter_payloads = []\n",
    "for i, packet in enumerate(packets):\n",
    "    if UDP in packet and b'Matter' in bytes(packet[UDP].payload):\n",
    "        print(f'Next layer after UDP in frame {i + 1}: {next_layer}')            \n",
    "        print(f'Processing frame {i + 1}...')\n",
    "        matter_payloads.append({\n",
    "            'frame_number': i + 1,  # Frame numbers are typically 1-based\n",
    "            'payload': bytes(packet[UDP].payload)\n",
    "        })\n",
    "        \n",
    "# print the Matter payloads\n",
    "with open('udp_payload_hex.txt', 'w') as file:\n",
    "    for payload in matter_payloads:\n",
    "        # Convert the payload to a hex string \n",
    "        hex_payload = payload['payload'].hex()\n",
    "\n",
    "        # add spaces between each byte and add a newline every 16 bytes\n",
    "        hex_payload = ' '.join(hex_payload[i:i+2] for i in range(0, len(hex_payload), 2))\n",
    "        hex_payload = '\\n'.join(hex_payload[i:i+47] for i in range(0, len(hex_payload), 48))\n",
    "\n",
    "        # print the frame number and the hex string\n",
    "        print(f'# Frame {payload[\"frame_number\"]}\\n')\n",
    "        print(hex_payload)\n",
    "\n",
    "        file.write(f'# Frame {payload[\"frame_number\"]}\\n')\n",
    "        file.write(hex_payload)\n",
    "    # Save the hex string to a text file\n",
    "\n"
   ]
  },
  {
   "cell_type": "code",
   "execution_count": null,
   "metadata": {},
   "outputs": [
    {
     "ename": "",
     "evalue": "",
     "output_type": "error",
     "traceback": [
      "\u001b[1;31mRunning cells with 'Python 3.12.7' requires the ipykernel package.\n",
      "\u001b[1;31mRun the following command to install 'ipykernel' into the Python environment. \n",
      "\u001b[1;31mCommand: '/home/user/.pyenv/versions/3.12.7/bin/python -m pip install ipykernel -U --force-reinstall'"
     ]
    }
   ],
   "source": [
    "from scapy.all import rdpcap, UDP\n",
    "from scapy.layers.dns import DNS\n",
    "from scapy.packet import bind_layers, Packet\n",
    "from scapy.fields import *\n",
    "\n",
    "# Bind UDP port 5353 (mDNS) to DNS layer\n",
    "bind_layers(UDP, DNS, dport=5353)\n",
    "bind_layers(UDP, DNS, sport=5353)\n",
    "\n",
    "# Define a custom Matter layer\n",
    "class Matter(Packet):\n",
    "    name = \"Matter\"\n",
    "    fields_desc = [StrLenField(\"data\", \"\", length_from=lambda pkt: len(pkt.payload))]\n",
    "\n",
    "# Bind UDP port 5540 (Matter) to the Matter layer\n",
    "bind_layers(UDP, Matter, dport=5540)\n",
    "bind_layers(UDP, Matter, sport=5540)\n",
    "\n",
    "# Load the pcap file\n",
    "packets = rdpcap('/tmp/WiresharkRemoteCaptures_01.pcap')\n",
    "\n",
    "# Function to get the next layer name after UDP\n",
    "def get_next_layer_name(packet):\n",
    "    udp_payload = packet[UDP].payload\n",
    "    next_layer_name = type(udp_payload).__name__\n",
    "    return next_layer_name\n",
    "\n",
    "# Extract the UDP payload from all frames whose UDP Payload is Matter\n",
    "matter_payloads = []\n",
    "for i, packet in enumerate(packets):\n",
    "    if UDP in packet:\n",
    "        udp_layer = packet[UDP]\n",
    "        udp_payload_bytes = bytes(udp_layer.payload)\n",
    "        # Check if UDP sport or dport is 5540 (Matter)\n",
    "        if udp_layer.sport == 5540 or udp_layer.dport == 5540:\n",
    "            next_layer_name = get_next_layer_name(packet)\n",
    "            print(f'Next layer after UDP in frame {i + 1}: {next_layer_name}')\n",
    "            print(f'Processing frame {i + 1}...')\n",
    "            matter_payloads.append({\n",
    "                'frame_number': i + 1,  # Frame numbers are typically 1-based\n",
    "                'payload': udp_payload_bytes\n",
    "            })\n"
   ]
  }
 ],
 "metadata": {
  "kernelspec": {
   "display_name": "bin",
   "language": "python",
   "name": "python3"
  },
  "language_info": {
   "codemirror_mode": {
    "name": "ipython",
    "version": 3
   },
   "file_extension": ".py",
   "mimetype": "text/x-python",
   "name": "python",
   "nbconvert_exporter": "python",
   "pygments_lexer": "ipython3",
   "version": "3.12.7"
  }
 },
 "nbformat": 4,
 "nbformat_minor": 2
}
